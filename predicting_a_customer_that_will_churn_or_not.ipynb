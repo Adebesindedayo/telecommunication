{
 "cells": [
  {
   "cell_type": "markdown",
   "metadata": {},
   "source": [
    "__IMPORTING THE NECESSARY LIBRARIES__"
   ]
  },
  {
   "cell_type": "code",
   "execution_count": 186,
   "metadata": {},
   "outputs": [],
   "source": [
    "import pandas as pd\n",
    "import matplotlib.pyplot as plt\n",
    "import seaborn as sns\n",
    "import numpy as np\n",
    "import numpy.random as nr\n",
    "import math\n",
    "\n",
    "%matplotlib inline"
   ]
  },
  {
   "cell_type": "markdown",
   "metadata": {},
   "source": [
    "__LOADING THE DATASET__"
   ]
  },
  {
   "cell_type": "code",
   "execution_count": 187,
   "metadata": {},
   "outputs": [],
   "source": [
    "train = pd.read_csv('train.csv')\n",
    "test = pd.read_csv('test.csv')\n",
    "variableDefined = pd.read_csv('VariableDefinitions.csv')"
   ]
  },
  {
   "cell_type": "markdown",
   "metadata": {},
   "source": [
    "__EXPLORATORY DATA ANALYSIS__"
   ]
  },
  {
   "cell_type": "code",
   "execution_count": 188,
   "metadata": {},
   "outputs": [],
   "source": [
    "#checking for the columns of the train and test data set\n",
    "#checking the data type of the train and test data set\n",
    "#checking for the information of the train and test data set\n",
    "#checking for the decription of the test and test data set "
   ]
  },
  {
   "cell_type": "code",
   "execution_count": 189,
   "metadata": {},
   "outputs": [
    {
     "data": {
      "text/plain": [
       "Index(['user_id', 'REGION', 'TENURE', 'MONTANT', 'FREQUENCE_RECH', 'REVENUE',\n",
       "       'ARPU_SEGMENT', 'FREQUENCE', 'DATA_VOLUME', 'ON_NET', 'ORANGE', 'TIGO',\n",
       "       'ZONE1', 'ZONE2', 'MRG', 'REGULARITY', 'TOP_PACK', 'FREQ_TOP_PACK',\n",
       "       'CHURN'],\n",
       "      dtype='object')"
      ]
     },
     "execution_count": 189,
     "metadata": {},
     "output_type": "execute_result"
    }
   ],
   "source": [
    "train.columns"
   ]
  },
  {
   "cell_type": "code",
   "execution_count": 190,
   "metadata": {},
   "outputs": [
    {
     "data": {
      "text/plain": [
       "user_id            object\n",
       "REGION             object\n",
       "TENURE             object\n",
       "MONTANT           float64\n",
       "FREQUENCE_RECH    float64\n",
       "REVENUE           float64\n",
       "ARPU_SEGMENT      float64\n",
       "FREQUENCE         float64\n",
       "DATA_VOLUME       float64\n",
       "ON_NET            float64\n",
       "ORANGE            float64\n",
       "TIGO              float64\n",
       "ZONE1             float64\n",
       "ZONE2             float64\n",
       "MRG                object\n",
       "REGULARITY          int64\n",
       "TOP_PACK           object\n",
       "FREQ_TOP_PACK     float64\n",
       "CHURN               int64\n",
       "dtype: object"
      ]
     },
     "execution_count": 190,
     "metadata": {},
     "output_type": "execute_result"
    }
   ],
   "source": [
    "train.dtypes"
   ]
  },
  {
   "cell_type": "code",
   "execution_count": 191,
   "metadata": {},
   "outputs": [],
   "source": [
    "#There are 19 variables in the columns with 5 categorical variable and 14 numeric variables"
   ]
  },
  {
   "cell_type": "code",
   "execution_count": 192,
   "metadata": {},
   "outputs": [
    {
     "data": {
      "text/html": [
       "<div>\n",
       "<style scoped>\n",
       "    .dataframe tbody tr th:only-of-type {\n",
       "        vertical-align: middle;\n",
       "    }\n",
       "\n",
       "    .dataframe tbody tr th {\n",
       "        vertical-align: top;\n",
       "    }\n",
       "\n",
       "    .dataframe thead th {\n",
       "        text-align: right;\n",
       "    }\n",
       "</style>\n",
       "<table border=\"1\" class=\"dataframe\">\n",
       "  <thead>\n",
       "    <tr style=\"text-align: right;\">\n",
       "      <th></th>\n",
       "      <th>user_id</th>\n",
       "      <th>REGION</th>\n",
       "      <th>TENURE</th>\n",
       "      <th>MONTANT</th>\n",
       "      <th>FREQUENCE_RECH</th>\n",
       "      <th>REVENUE</th>\n",
       "      <th>ARPU_SEGMENT</th>\n",
       "      <th>FREQUENCE</th>\n",
       "      <th>DATA_VOLUME</th>\n",
       "      <th>ON_NET</th>\n",
       "      <th>ORANGE</th>\n",
       "      <th>TIGO</th>\n",
       "      <th>ZONE1</th>\n",
       "      <th>ZONE2</th>\n",
       "      <th>MRG</th>\n",
       "      <th>REGULARITY</th>\n",
       "      <th>TOP_PACK</th>\n",
       "      <th>FREQ_TOP_PACK</th>\n",
       "      <th>CHURN</th>\n",
       "    </tr>\n",
       "  </thead>\n",
       "  <tbody>\n",
       "    <tr>\n",
       "      <th>count</th>\n",
       "      <td>400000</td>\n",
       "      <td>242480</td>\n",
       "      <td>400000</td>\n",
       "      <td>259723.000000</td>\n",
       "      <td>259723.000000</td>\n",
       "      <td>265337.000000</td>\n",
       "      <td>265337.000000</td>\n",
       "      <td>265337.000000</td>\n",
       "      <td>203146.000000</td>\n",
       "      <td>254181.000000</td>\n",
       "      <td>233683.000000</td>\n",
       "      <td>160614.000000</td>\n",
       "      <td>31690.000000</td>\n",
       "      <td>25513.000000</td>\n",
       "      <td>400000</td>\n",
       "      <td>400000.000000</td>\n",
       "      <td>232671</td>\n",
       "      <td>232671.000000</td>\n",
       "      <td>400000.00000</td>\n",
       "    </tr>\n",
       "    <tr>\n",
       "      <th>unique</th>\n",
       "      <td>400000</td>\n",
       "      <td>14</td>\n",
       "      <td>8</td>\n",
       "      <td>NaN</td>\n",
       "      <td>NaN</td>\n",
       "      <td>NaN</td>\n",
       "      <td>NaN</td>\n",
       "      <td>NaN</td>\n",
       "      <td>NaN</td>\n",
       "      <td>NaN</td>\n",
       "      <td>NaN</td>\n",
       "      <td>NaN</td>\n",
       "      <td>NaN</td>\n",
       "      <td>NaN</td>\n",
       "      <td>1</td>\n",
       "      <td>NaN</td>\n",
       "      <td>111</td>\n",
       "      <td>NaN</td>\n",
       "      <td>NaN</td>\n",
       "    </tr>\n",
       "    <tr>\n",
       "      <th>top</th>\n",
       "      <td>f54753ca873110450cec558dff6e669b222c8fe8</td>\n",
       "      <td>DAKAR</td>\n",
       "      <td>K &gt; 24 month</td>\n",
       "      <td>NaN</td>\n",
       "      <td>NaN</td>\n",
       "      <td>NaN</td>\n",
       "      <td>NaN</td>\n",
       "      <td>NaN</td>\n",
       "      <td>NaN</td>\n",
       "      <td>NaN</td>\n",
       "      <td>NaN</td>\n",
       "      <td>NaN</td>\n",
       "      <td>NaN</td>\n",
       "      <td>NaN</td>\n",
       "      <td>NO</td>\n",
       "      <td>NaN</td>\n",
       "      <td>All-net 500F=2000F;5d</td>\n",
       "      <td>NaN</td>\n",
       "      <td>NaN</td>\n",
       "    </tr>\n",
       "    <tr>\n",
       "      <th>freq</th>\n",
       "      <td>1</td>\n",
       "      <td>95517</td>\n",
       "      <td>379439</td>\n",
       "      <td>NaN</td>\n",
       "      <td>NaN</td>\n",
       "      <td>NaN</td>\n",
       "      <td>NaN</td>\n",
       "      <td>NaN</td>\n",
       "      <td>NaN</td>\n",
       "      <td>NaN</td>\n",
       "      <td>NaN</td>\n",
       "      <td>NaN</td>\n",
       "      <td>NaN</td>\n",
       "      <td>NaN</td>\n",
       "      <td>400000</td>\n",
       "      <td>NaN</td>\n",
       "      <td>58675</td>\n",
       "      <td>NaN</td>\n",
       "      <td>NaN</td>\n",
       "    </tr>\n",
       "    <tr>\n",
       "      <th>mean</th>\n",
       "      <td>NaN</td>\n",
       "      <td>NaN</td>\n",
       "      <td>NaN</td>\n",
       "      <td>5522.971346</td>\n",
       "      <td>11.503733</td>\n",
       "      <td>5505.487757</td>\n",
       "      <td>1835.167658</td>\n",
       "      <td>13.951835</td>\n",
       "      <td>3369.763441</td>\n",
       "      <td>275.917586</td>\n",
       "      <td>95.532927</td>\n",
       "      <td>23.134608</td>\n",
       "      <td>7.874282</td>\n",
       "      <td>7.187003</td>\n",
       "      <td>NaN</td>\n",
       "      <td>28.046502</td>\n",
       "      <td>NaN</td>\n",
       "      <td>9.254209</td>\n",
       "      <td>0.18711</td>\n",
       "    </tr>\n",
       "    <tr>\n",
       "      <th>std</th>\n",
       "      <td>NaN</td>\n",
       "      <td>NaN</td>\n",
       "      <td>NaN</td>\n",
       "      <td>7099.640630</td>\n",
       "      <td>13.275514</td>\n",
       "      <td>7175.802367</td>\n",
       "      <td>2391.929290</td>\n",
       "      <td>14.679943</td>\n",
       "      <td>12281.867504</td>\n",
       "      <td>873.593034</td>\n",
       "      <td>204.733272</td>\n",
       "      <td>63.061871</td>\n",
       "      <td>35.642843</td>\n",
       "      <td>26.964028</td>\n",
       "      <td>NaN</td>\n",
       "      <td>22.282773</td>\n",
       "      <td>NaN</td>\n",
       "      <td>12.305563</td>\n",
       "      <td>0.39000</td>\n",
       "    </tr>\n",
       "    <tr>\n",
       "      <th>min</th>\n",
       "      <td>NaN</td>\n",
       "      <td>NaN</td>\n",
       "      <td>NaN</td>\n",
       "      <td>20.000000</td>\n",
       "      <td>1.000000</td>\n",
       "      <td>1.000000</td>\n",
       "      <td>0.000000</td>\n",
       "      <td>1.000000</td>\n",
       "      <td>0.000000</td>\n",
       "      <td>0.000000</td>\n",
       "      <td>0.000000</td>\n",
       "      <td>0.000000</td>\n",
       "      <td>0.000000</td>\n",
       "      <td>0.000000</td>\n",
       "      <td>NaN</td>\n",
       "      <td>1.000000</td>\n",
       "      <td>NaN</td>\n",
       "      <td>1.000000</td>\n",
       "      <td>0.00000</td>\n",
       "    </tr>\n",
       "    <tr>\n",
       "      <th>25%</th>\n",
       "      <td>NaN</td>\n",
       "      <td>NaN</td>\n",
       "      <td>NaN</td>\n",
       "      <td>1000.000000</td>\n",
       "      <td>2.000000</td>\n",
       "      <td>1000.000000</td>\n",
       "      <td>333.000000</td>\n",
       "      <td>3.000000</td>\n",
       "      <td>0.000000</td>\n",
       "      <td>5.000000</td>\n",
       "      <td>7.000000</td>\n",
       "      <td>2.000000</td>\n",
       "      <td>0.000000</td>\n",
       "      <td>0.000000</td>\n",
       "      <td>NaN</td>\n",
       "      <td>6.000000</td>\n",
       "      <td>NaN</td>\n",
       "      <td>2.000000</td>\n",
       "      <td>0.00000</td>\n",
       "    </tr>\n",
       "    <tr>\n",
       "      <th>50%</th>\n",
       "      <td>NaN</td>\n",
       "      <td>NaN</td>\n",
       "      <td>NaN</td>\n",
       "      <td>3000.000000</td>\n",
       "      <td>6.000000</td>\n",
       "      <td>3000.000000</td>\n",
       "      <td>1000.000000</td>\n",
       "      <td>9.000000</td>\n",
       "      <td>267.000000</td>\n",
       "      <td>27.000000</td>\n",
       "      <td>29.000000</td>\n",
       "      <td>6.000000</td>\n",
       "      <td>1.000000</td>\n",
       "      <td>2.000000</td>\n",
       "      <td>NaN</td>\n",
       "      <td>24.000000</td>\n",
       "      <td>NaN</td>\n",
       "      <td>5.000000</td>\n",
       "      <td>0.00000</td>\n",
       "    </tr>\n",
       "    <tr>\n",
       "      <th>75%</th>\n",
       "      <td>NaN</td>\n",
       "      <td>NaN</td>\n",
       "      <td>NaN</td>\n",
       "      <td>7300.000000</td>\n",
       "      <td>15.000000</td>\n",
       "      <td>7340.000000</td>\n",
       "      <td>2447.000000</td>\n",
       "      <td>19.000000</td>\n",
       "      <td>2925.000000</td>\n",
       "      <td>155.000000</td>\n",
       "      <td>99.000000</td>\n",
       "      <td>20.000000</td>\n",
       "      <td>3.000000</td>\n",
       "      <td>5.000000</td>\n",
       "      <td>NaN</td>\n",
       "      <td>51.000000</td>\n",
       "      <td>NaN</td>\n",
       "      <td>12.000000</td>\n",
       "      <td>0.00000</td>\n",
       "    </tr>\n",
       "    <tr>\n",
       "      <th>max</th>\n",
       "      <td>NaN</td>\n",
       "      <td>NaN</td>\n",
       "      <td>NaN</td>\n",
       "      <td>226550.000000</td>\n",
       "      <td>133.000000</td>\n",
       "      <td>233413.000000</td>\n",
       "      <td>77804.000000</td>\n",
       "      <td>91.000000</td>\n",
       "      <td>934576.000000</td>\n",
       "      <td>45011.000000</td>\n",
       "      <td>6788.000000</td>\n",
       "      <td>2758.000000</td>\n",
       "      <td>1657.000000</td>\n",
       "      <td>1011.000000</td>\n",
       "      <td>NaN</td>\n",
       "      <td>62.000000</td>\n",
       "      <td>NaN</td>\n",
       "      <td>629.000000</td>\n",
       "      <td>1.00000</td>\n",
       "    </tr>\n",
       "  </tbody>\n",
       "</table>\n",
       "</div>"
      ],
      "text/plain": [
       "                                         user_id  REGION        TENURE  \\\n",
       "count                                     400000  242480        400000   \n",
       "unique                                    400000      14             8   \n",
       "top     f54753ca873110450cec558dff6e669b222c8fe8   DAKAR  K > 24 month   \n",
       "freq                                           1   95517        379439   \n",
       "mean                                         NaN     NaN           NaN   \n",
       "std                                          NaN     NaN           NaN   \n",
       "min                                          NaN     NaN           NaN   \n",
       "25%                                          NaN     NaN           NaN   \n",
       "50%                                          NaN     NaN           NaN   \n",
       "75%                                          NaN     NaN           NaN   \n",
       "max                                          NaN     NaN           NaN   \n",
       "\n",
       "              MONTANT  FREQUENCE_RECH        REVENUE   ARPU_SEGMENT  \\\n",
       "count   259723.000000   259723.000000  265337.000000  265337.000000   \n",
       "unique            NaN             NaN            NaN            NaN   \n",
       "top               NaN             NaN            NaN            NaN   \n",
       "freq              NaN             NaN            NaN            NaN   \n",
       "mean      5522.971346       11.503733    5505.487757    1835.167658   \n",
       "std       7099.640630       13.275514    7175.802367    2391.929290   \n",
       "min         20.000000        1.000000       1.000000       0.000000   \n",
       "25%       1000.000000        2.000000    1000.000000     333.000000   \n",
       "50%       3000.000000        6.000000    3000.000000    1000.000000   \n",
       "75%       7300.000000       15.000000    7340.000000    2447.000000   \n",
       "max     226550.000000      133.000000  233413.000000   77804.000000   \n",
       "\n",
       "            FREQUENCE    DATA_VOLUME         ON_NET         ORANGE  \\\n",
       "count   265337.000000  203146.000000  254181.000000  233683.000000   \n",
       "unique            NaN            NaN            NaN            NaN   \n",
       "top               NaN            NaN            NaN            NaN   \n",
       "freq              NaN            NaN            NaN            NaN   \n",
       "mean        13.951835    3369.763441     275.917586      95.532927   \n",
       "std         14.679943   12281.867504     873.593034     204.733272   \n",
       "min          1.000000       0.000000       0.000000       0.000000   \n",
       "25%          3.000000       0.000000       5.000000       7.000000   \n",
       "50%          9.000000     267.000000      27.000000      29.000000   \n",
       "75%         19.000000    2925.000000     155.000000      99.000000   \n",
       "max         91.000000  934576.000000   45011.000000    6788.000000   \n",
       "\n",
       "                 TIGO         ZONE1         ZONE2     MRG     REGULARITY  \\\n",
       "count   160614.000000  31690.000000  25513.000000  400000  400000.000000   \n",
       "unique            NaN           NaN           NaN       1            NaN   \n",
       "top               NaN           NaN           NaN      NO            NaN   \n",
       "freq              NaN           NaN           NaN  400000            NaN   \n",
       "mean        23.134608      7.874282      7.187003     NaN      28.046502   \n",
       "std         63.061871     35.642843     26.964028     NaN      22.282773   \n",
       "min          0.000000      0.000000      0.000000     NaN       1.000000   \n",
       "25%          2.000000      0.000000      0.000000     NaN       6.000000   \n",
       "50%          6.000000      1.000000      2.000000     NaN      24.000000   \n",
       "75%         20.000000      3.000000      5.000000     NaN      51.000000   \n",
       "max       2758.000000   1657.000000   1011.000000     NaN      62.000000   \n",
       "\n",
       "                     TOP_PACK  FREQ_TOP_PACK         CHURN  \n",
       "count                  232671  232671.000000  400000.00000  \n",
       "unique                    111            NaN           NaN  \n",
       "top     All-net 500F=2000F;5d            NaN           NaN  \n",
       "freq                    58675            NaN           NaN  \n",
       "mean                      NaN       9.254209       0.18711  \n",
       "std                       NaN      12.305563       0.39000  \n",
       "min                       NaN       1.000000       0.00000  \n",
       "25%                       NaN       2.000000       0.00000  \n",
       "50%                       NaN       5.000000       0.00000  \n",
       "75%                       NaN      12.000000       0.00000  \n",
       "max                       NaN     629.000000       1.00000  "
      ]
     },
     "execution_count": 192,
     "metadata": {},
     "output_type": "execute_result"
    }
   ],
   "source": [
    "train.describe(include='all')"
   ]
  },
  {
   "cell_type": "code",
   "execution_count": 193,
   "metadata": {},
   "outputs": [
    {
     "name": "stdout",
     "output_type": "stream",
     "text": [
      "<class 'pandas.core.frame.DataFrame'>\n",
      "RangeIndex: 400000 entries, 0 to 399999\n",
      "Data columns (total 19 columns):\n",
      " #   Column          Non-Null Count   Dtype  \n",
      "---  ------          --------------   -----  \n",
      " 0   user_id         400000 non-null  object \n",
      " 1   REGION          242480 non-null  object \n",
      " 2   TENURE          400000 non-null  object \n",
      " 3   MONTANT         259723 non-null  float64\n",
      " 4   FREQUENCE_RECH  259723 non-null  float64\n",
      " 5   REVENUE         265337 non-null  float64\n",
      " 6   ARPU_SEGMENT    265337 non-null  float64\n",
      " 7   FREQUENCE       265337 non-null  float64\n",
      " 8   DATA_VOLUME     203146 non-null  float64\n",
      " 9   ON_NET          254181 non-null  float64\n",
      " 10  ORANGE          233683 non-null  float64\n",
      " 11  TIGO            160614 non-null  float64\n",
      " 12  ZONE1           31690 non-null   float64\n",
      " 13  ZONE2           25513 non-null   float64\n",
      " 14  MRG             400000 non-null  object \n",
      " 15  REGULARITY      400000 non-null  int64  \n",
      " 16  TOP_PACK        232671 non-null  object \n",
      " 17  FREQ_TOP_PACK   232671 non-null  float64\n",
      " 18  CHURN           400000 non-null  int64  \n",
      "dtypes: float64(12), int64(2), object(5)\n",
      "memory usage: 58.0+ MB\n"
     ]
    }
   ],
   "source": [
    "train.info()"
   ]
  },
  {
   "cell_type": "markdown",
   "metadata": {},
   "source": [
    "I WANT TO EXPLAIN THE DESCRIBE FUNCTION"
   ]
  },
  {
   "cell_type": "code",
   "execution_count": 194,
   "metadata": {},
   "outputs": [],
   "source": [
    "#plotting univariate variable(categorical)"
   ]
  },
  {
   "cell_type": "code",
   "execution_count": 195,
   "metadata": {},
   "outputs": [],
   "source": [
    "sns.set_style('whitegrid')"
   ]
  },
  {
   "cell_type": "code",
   "execution_count": 196,
   "metadata": {},
   "outputs": [
    {
     "data": {
      "text/plain": [
       "(array([ 0,  1,  2,  3,  4,  5,  6,  7,  8,  9, 10, 11, 12, 13]),\n",
       " <a list of 14 Text xticklabel objects>)"
      ]
     },
     "execution_count": 196,
     "metadata": {},
     "output_type": "execute_result"
    },
    {
     "data": {
      "image/png": "[encoded data removed]",
      "text/plain": [
       "<Figure size 432x288 with 1 Axes>"
      ]
     },
     "metadata": {},
     "output_type": "display_data"
    }
   ],
   "source": [
    "sns.countplot(x='REGION',data = train)\n",
    "plt.xticks(rotation = 90)"
   ]
  },
  {
   "cell_type": "code",
   "execution_count": 197,
   "metadata": {},
   "outputs": [
    {
     "data": {
      "text/plain": [
       "(array([0, 1, 2, 3, 4, 5, 6, 7]), <a list of 8 Text xticklabel objects>)"
      ]
     },
     "execution_count": 197,
     "metadata": {},
     "output_type": "execute_result"
    },
    {
     "data": {
      "image/png": "[encoded data removed]",
      "text/plain": [
       "<Figure size 432x288 with 1 Axes>"
      ]
     },
     "metadata": {},
     "output_type": "display_data"
    }
   ],
   "source": [
    "sns.countplot(x='TENURE',data = train)\n",
    "plt.xticks(rotation = 90)"
   ]
  },
  {
   "cell_type": "code",
   "execution_count": 198,
   "metadata": {},
   "outputs": [
    {
     "data": {
      "text/plain": [
       "(array([0, 1]), <a list of 2 Text xticklabel objects>)"
      ]
     },
     "execution_count": 198,
     "metadata": {},
     "output_type": "execute_result"
    },
    {
     "data": {
      "image/png": "[encoded data removed]",
      "text/plain": [
       "<Figure size 432x288 with 1 Axes>"
      ]
     },
     "metadata": {},
     "output_type": "display_data"
    }
   ],
   "source": [
    "sns.countplot(x='CHURN',data = train)\n",
    "plt.xticks(rotation = 90)"
   ]
  },
  {
   "cell_type": "markdown",
   "metadata": {},
   "source": [
    "To visualize univariate(numeric)"
   ]
  },
  {
   "cell_type": "code",
   "execution_count": 199,
   "metadata": {},
   "outputs": [
    {
     "data": {
      "text/plain": [
       "array([[<matplotlib.axes._subplots.AxesSubplot object at 0x000001F538896448>]],\n",
       "      dtype=object)"
      ]
     },
     "execution_count": 199,
     "metadata": {},
     "output_type": "execute_result"
    },
    {
     "data": {
      "image/png": "[encoded data removed]",
      "text/plain": [
       "<Figure size 432x288 with 1 Axes>"
      ]
     },
     "metadata": {},
     "output_type": "display_data"
    }
   ],
   "source": [
    "train.hist(column = 'REGULARITY',bins =100)"
   ]
  },
  {
   "cell_type": "code",
   "execution_count": 200,
   "metadata": {},
   "outputs": [
    {
     "data": {
      "text/plain": [
       "array([[<matplotlib.axes._subplots.AxesSubplot object at 0x000001F5108F9F48>]],\n",
       "      dtype=object)"
      ]
     },
     "execution_count": 200,
     "metadata": {},
     "output_type": "execute_result"
    },
    {
     "data": {
      "image/png": "[encoded data removed]",
      "text/plain": [
       "<Figure size 432x288 with 1 Axes>"
      ]
     },
     "metadata": {},
     "output_type": "display_data"
    }
   ],
   "source": [
    "train.hist(column = 'FREQUENCE',bins =100)"
   ]
  },
  {
   "cell_type": "code",
   "execution_count": 201,
   "metadata": {},
   "outputs": [
    {
     "data": {
      "text/plain": [
       "array([[<matplotlib.axes._subplots.AxesSubplot object at 0x000001F510B9F288>]],\n",
       "      dtype=object)"
      ]
     },
     "execution_count": 201,
     "metadata": {},
     "output_type": "execute_result"
    },
    {
     "data": {
      "image/png": "[encoded data removed]",
      "text/plain": [
       "<Figure size 432x288 with 1 Axes>"
      ]
     },
     "metadata": {},
     "output_type": "display_data"
    }
   ],
   "source": [
    "train.hist(column = 'DATA_VOLUME',bins =100)"
   ]
  },
  {
   "cell_type": "code",
   "execution_count": 202,
   "metadata": {},
   "outputs": [
    {
     "data": {
      "text/plain": [
       "array([[<matplotlib.axes._subplots.AxesSubplot object at 0x000001F534E8F208>]],\n",
       "      dtype=object)"
      ]
     },
     "execution_count": 202,
     "metadata": {},
     "output_type": "execute_result"
    },
    {
     "data": {
      "image/png": "[encoded data removed]",
      "text/plain": [
       "<Figure size 432x288 with 1 Axes>"
      ]
     },
     "metadata": {},
     "output_type": "display_data"
    }
   ],
   "source": [
    "train.hist(column = 'MONTANT',bins =100)"
   ]
  },
  {
   "cell_type": "code",
   "execution_count": 203,
   "metadata": {},
   "outputs": [
    {
     "data": {
      "text/plain": [
       "array([[<matplotlib.axes._subplots.AxesSubplot object at 0x000001F538836A88>]],\n",
       "      dtype=object)"
      ]
     },
     "execution_count": 203,
     "metadata": {},
     "output_type": "execute_result"
    },
    {
     "data": {
      "image/png": "[encoded data removed]",
      "text/plain": [
       "<Figure size 432x288 with 1 Axes>"
      ]
     },
     "metadata": {},
     "output_type": "display_data"
    }
   ],
   "source": [
    "train.hist(column ='REVENUE',bins =100)"
   ]
  },
  {
   "cell_type": "code",
   "execution_count": 204,
   "metadata": {},
   "outputs": [
    {
     "data": {
      "text/plain": [
       "array([[<matplotlib.axes._subplots.AxesSubplot object at 0x000001F594AB0108>]],\n",
       "      dtype=object)"
      ]
     },
     "execution_count": 204,
     "metadata": {},
     "output_type": "execute_result"
    },
    {
     "data": {
      "image/png": "[encoded data removed]",
      "text/plain": [
       "<Figure size 432x288 with 1 Axes>"
      ]
     },
     "metadata": {},
     "output_type": "display_data"
    }
   ],
   "source": [
    "train.hist(column = 'FREQ_TOP_PACK',bins =100)"
   ]
  },
  {
   "cell_type": "code",
   "execution_count": 205,
   "metadata": {},
   "outputs": [
    {
     "data": {
      "text/plain": [
       "array([[<matplotlib.axes._subplots.AxesSubplot object at 0x000001F53884E608>]],\n",
       "      dtype=object)"
      ]
     },
     "execution_count": 205,
     "metadata": {},
     "output_type": "execute_result"
    },
    {
     "data": {
      "image/png": "[encoded data removed]",
      "text/plain": [
       "<Figure size 432x288 with 1 Axes>"
      ]
     },
     "metadata": {},
     "output_type": "display_data"
    }
   ],
   "source": [
    "train.hist(column = 'ORANGE',bins =100)"
   ]
  },
  {
   "cell_type": "code",
   "execution_count": 206,
   "metadata": {},
   "outputs": [
    {
     "data": {
      "text/plain": [
       "array([[<matplotlib.axes._subplots.AxesSubplot object at 0x000001F5B06F5588>]],\n",
       "      dtype=object)"
      ]
     },
     "execution_count": 206,
     "metadata": {},
     "output_type": "execute_result"
    },
    {
     "data": {
      "image/png": "[encoded data removed]",
      "text/plain": [
       "<Figure size 432x288 with 1 Axes>"
      ]
     },
     "metadata": {},
     "output_type": "display_data"
    }
   ],
   "source": [
    "train.hist(column = 'TIGO',bins =100)"
   ]
  },
  {
   "cell_type": "code",
   "execution_count": 207,
   "metadata": {},
   "outputs": [
    {
     "data": {
      "text/plain": [
       "array([[<matplotlib.axes._subplots.AxesSubplot object at 0x000001F5B068B7C8>]],\n",
       "      dtype=object)"
      ]
     },
     "execution_count": 207,
     "metadata": {},
     "output_type": "execute_result"
    },
    {
     "data": {
      "image/png": "[encoded data removed]",
      "text/plain": [
       "<Figure size 432x288 with 1 Axes>"
      ]
     },
     "metadata": {},
     "output_type": "display_data"
    }
   ],
   "source": [
    "train.hist(column = 'ON_NET',bins =100)"
   ]
  },
  {
   "cell_type": "code",
   "execution_count": 208,
   "metadata": {},
   "outputs": [
    {
     "data": {
      "text/plain": [
       "array([[<matplotlib.axes._subplots.AxesSubplot object at 0x000001F5B0ED6888>]],\n",
       "      dtype=object)"
      ]
     },
     "execution_count": 208,
     "metadata": {},
     "output_type": "execute_result"
    },
    {
     "data": {
      "image/png": "[encoded data removed]",
      "text/plain": [
       "<Figure size 432x288 with 1 Axes>"
      ]
     },
     "metadata": {},
     "output_type": "display_data"
    }
   ],
   "source": [
    "train.hist(column = 'DATA_VOLUME',bins =100)"
   ]
  },
  {
   "cell_type": "code",
   "execution_count": 209,
   "metadata": {},
   "outputs": [
    {
     "data": {
      "text/plain": [
       "user_id                0\n",
       "REGION            157520\n",
       "TENURE                 0\n",
       "MONTANT           140277\n",
       "FREQUENCE_RECH    140277\n",
       "REVENUE           134663\n",
       "ARPU_SEGMENT      134663\n",
       "FREQUENCE         134663\n",
       "DATA_VOLUME       196854\n",
       "ON_NET            145819\n",
       "ORANGE            166317\n",
       "TIGO              239386\n",
       "ZONE1             368310\n",
       "ZONE2             374487\n",
       "MRG                    0\n",
       "REGULARITY             0\n",
       "TOP_PACK          167329\n",
       "FREQ_TOP_PACK     167329\n",
       "CHURN                  0\n",
       "dtype: int64"
      ]
     },
     "execution_count": 209,
     "metadata": {},
     "output_type": "execute_result"
    }
   ],
   "source": [
    "#checking for total number of missing observation\n",
    "train.isnull().sum()"
   ]
  },
  {
   "cell_type": "markdown",
   "metadata": {},
   "source": [
    "DEALING WITH MISSING VALUES IN NUMERIC FEATURES"
   ]
  },
  {
   "cell_type": "code",
   "execution_count": 210,
   "metadata": {},
   "outputs": [],
   "source": [
    "mylist = ['MONTANT', 'FREQUENCE_RECH', 'ARPU_SEGMENT','REVENUE','FREQUENCE', 'DATA_VOLUME', 'ON_NET', 'ORANGE', 'TIGO', 'REGULARITY','FREQ_TOP_PACK']\n",
    "#for i in mylist:\n",
    "    #train[i] = train[i].fillna(-1,inplace=False)\n",
    "    #test[i] = test[i].fillna(-1,inplace = False)\n",
    "for i in mylist:\n",
    "    a=train[i].fillna(-1,inplace=True)\n",
    "    b=test[i].fillna(-1,inplace = True)"
   ]
  },
  {
   "cell_type": "code",
   "execution_count": 211,
   "metadata": {},
   "outputs": [
    {
     "data": {
      "text/plain": [
       "user_id                0\n",
       "REGION            157520\n",
       "TENURE                 0\n",
       "MONTANT                0\n",
       "FREQUENCE_RECH         0\n",
       "REVENUE                0\n",
       "ARPU_SEGMENT           0\n",
       "FREQUENCE              0\n",
       "DATA_VOLUME            0\n",
       "ON_NET                 0\n",
       "ORANGE                 0\n",
       "TIGO                   0\n",
       "ZONE1             368310\n",
       "ZONE2             374487\n",
       "MRG                    0\n",
       "REGULARITY             0\n",
       "TOP_PACK          167329\n",
       "FREQ_TOP_PACK          0\n",
       "CHURN                  0\n",
       "dtype: int64"
      ]
     },
     "execution_count": 211,
     "metadata": {},
     "output_type": "execute_result"
    }
   ],
   "source": [
    "train.isnull().sum()"
   ]
  },
  {
   "cell_type": "markdown",
   "metadata": {},
   "source": [
    "filling in the missing value for the categorical variable"
   ]
  },
  {
   "cell_type": "code",
   "execution_count": 212,
   "metadata": {},
   "outputs": [],
   "source": [
    "myylist =['REGION','TENURE','TOP_PACK']\n",
    "for i in myylist:\n",
    "    a = train.fillna('None',inplace= True)\n",
    "    b = test.fillna('None',inplace = True)"
   ]
  },
  {
   "cell_type": "code",
   "execution_count": 213,
   "metadata": {},
   "outputs": [
    {
     "data": {
      "text/plain": [
       "user_id           0\n",
       "REGION            0\n",
       "TENURE            0\n",
       "MONTANT           0\n",
       "FREQUENCE_RECH    0\n",
       "REVENUE           0\n",
       "ARPU_SEGMENT      0\n",
       "FREQUENCE         0\n",
       "DATA_VOLUME       0\n",
       "ON_NET            0\n",
       "ORANGE            0\n",
       "TIGO              0\n",
       "ZONE1             0\n",
       "ZONE2             0\n",
       "MRG               0\n",
       "REGULARITY        0\n",
       "TOP_PACK          0\n",
       "FREQ_TOP_PACK     0\n",
       "CHURN             0\n",
       "dtype: int64"
      ]
     },
     "execution_count": 213,
     "metadata": {},
     "output_type": "execute_result"
    }
   ],
   "source": [
    "train.isnull().sum()"
   ]
  },
  {
   "cell_type": "markdown",
   "metadata": {},
   "source": []
  },
  {
   "cell_type": "code",
   "execution_count": 214,
   "metadata": {},
   "outputs": [
    {
     "data": {
      "image/png": "[encoded data removed]",
      "text/plain": [
       "<Figure size 432x288 with 1 Axes>"
      ]
     },
     "metadata": {},
     "output_type": "display_data"
    }
   ],
   "source": [
    "sns.boxplot(x= 'REGION',y='FREQUENCE_RECH',width =0.8,whis = 1.5,data =train)\n",
    "plt.xticks(rotation = 90)\n",
    "sns.set_context('notebook')"
   ]
  },
  {
   "cell_type": "code",
   "execution_count": null,
   "metadata": {},
   "outputs": [],
   "source": [
    "sns.pairplot(data =train)"
   ]
  },
  {
   "cell_type": "code",
   "execution_count": null,
   "metadata": {},
   "outputs": [],
   "source": [
    "train[train.columns[1:]].corr()['CHURN'][:]"
   ]
  },
  {
   "cell_type": "code",
   "execution_count": null,
   "metadata": {},
   "outputs": [],
   "source": [
    "train.corr()"
   ]
  },
  {
   "cell_type": "code",
   "execution_count": null,
   "metadata": {},
   "outputs": [],
   "source": [
    "train['TOP_PACK'].unique()"
   ]
  },
  {
   "cell_type": "markdown",
   "metadata": {},
   "source": [
    "dropping some columns"
   ]
  },
  {
   "cell_type": "code",
   "execution_count": null,
   "metadata": {},
   "outputs": [],
   "source": [
    "X =train.drop(['user_id','MRG','CHURN','TENURE','REVENUE','ZONE1','ZONE2','CHURN'],axis =1,inplace =True)\n",
    "y = train['CHURN']"
   ]
  },
  {
   "cell_type": "code",
   "execution_count": null,
   "metadata": {},
   "outputs": [],
   "source": [
    "X_test = test.drop(['user_id','MRG','TENURE','REVENUE','ZONE1','ZONE2'],axis =1,inplace =True)"
   ]
  },
  {
   "cell_type": "code",
   "execution_count": null,
   "metadata": {},
   "outputs": [],
   "source": [
    "from sklearn.preprocessing import LabelEncoder\n",
    "for i in ['REGION','TOP_PACK']:\n",
    "    train[i] = LabelEncoder().fit_transform(train[i])\n",
    "    test[i] = LabelEncoder().fit_transform(test[i])"
   ]
  },
  {
   "cell_type": "code",
   "execution_count": null,
   "metadata": {},
   "outputs": [],
   "source": [
    "train.head(20)"
   ]
  },
  {
   "cell_type": "code",
   "execution_count": null,
   "metadata": {},
   "outputs": [],
   "source": []
  }
 ],
 "metadata": {
  "kernelspec": {
   "display_name": "Python 3",
   "language": "python",
   "name": "python3"
  },
  "language_info": {
   "codemirror_mode": {
    "name": "ipython",
    "version": 3
   },
   "file_extension": ".py",
   "mimetype": "text/x-python",
   "name": "python",
   "nbconvert_exporter": "python",
   "pygments_lexer": "ipython3",
   "version": "3.7.6"
  }
 },
 "nbformat": 4,
 "nbformat_minor": 4
}
