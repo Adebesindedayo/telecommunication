{
 "cells": [
  {
   "cell_type": "markdown",
   "metadata": {},
   "source": [
    "Importing the necessary library "
   ]
  },
  {
   "cell_type": "code",
   "execution_count": 180,
   "metadata": {},
   "outputs": [],
   "source": [
    "import os\n",
    "import pandas as pd\n",
    "import matplotlib.pyplot as plt\n",
    "import seaborn as sns\n",
    "import numpy as np\n",
    "import numpy.random as nr\n",
    "from matplotlib import pyplot\n",
    "\n",
    "\n",
    "%matplotlib inline"
   ]
  },
  {
   "cell_type": "code",
   "execution_count": 152,
   "metadata": {},
   "outputs": [
    {
     "data": {
      "text/plain": [
       "['.git',\n",
       " '.ipynb_checkpoints',\n",
       " 'prediction(classification).ipynb',\n",
       " 'README.md',\n",
       " 'sample_submission.csv',\n",
       " 'starter-submission.csv',\n",
       " 'starter-submission1.csv',\n",
       " 'starter-submission2.csv',\n",
       " 'Test.csv',\n",
       " 'Train.csv',\n",
       " 'VariableDefinitions.csv']"
      ]
     },
     "execution_count": 152,
     "metadata": {},
     "output_type": "execute_result"
    }
   ],
   "source": [
    "#Listing all your directory\n",
    "os.listdir()"
   ]
  },
  {
   "cell_type": "markdown",
   "metadata": {},
   "source": [
    "**READING THE CSV FILE**"
   ]
  },
  {
   "cell_type": "code",
   "execution_count": 181,
   "metadata": {},
   "outputs": [],
   "source": [
    "train = pd.read_csv('train.csv')\n",
    "test = pd.read_csv('test.csv')\n",
    "variableDefined = pd.read_csv('VariableDefinitions.csv')"
   ]
  },
  {
   "cell_type": "markdown",
   "metadata": {},
   "source": [
    "**DATA SUMMARY**"
   ]
  },
  {
   "cell_type": "code",
   "execution_count": 154,
   "metadata": {},
   "outputs": [
    {
     "data": {
      "text/plain": [
       "Index(['user_id', 'REGION', 'TENURE', 'MONTANT', 'FREQUENCE_RECH', 'REVENUE',\n",
       "       'ARPU_SEGMENT', 'FREQUENCE', 'DATA_VOLUME', 'ON_NET', 'ORANGE', 'TIGO',\n",
       "       'ZONE1', 'ZONE2', 'MRG', 'REGULARITY', 'TOP_PACK', 'FREQ_TOP_PACK',\n",
       "       'CHURN'],\n",
       "      dtype='object')"
      ]
     },
     "execution_count": 154,
     "metadata": {},
     "output_type": "execute_result"
    }
   ],
   "source": [
    "#checking for the columns\n",
    "train.columns"
   ]
  },
  {
   "cell_type": "code",
   "execution_count": 155,
   "metadata": {},
   "outputs": [
    {
     "data": {
      "text/plain": [
       "user_id            object\n",
       "REGION             object\n",
       "TENURE             object\n",
       "MONTANT           float64\n",
       "FREQUENCE_RECH    float64\n",
       "REVENUE           float64\n",
       "ARPU_SEGMENT      float64\n",
       "FREQUENCE         float64\n",
       "DATA_VOLUME       float64\n",
       "ON_NET            float64\n",
       "ORANGE            float64\n",
       "TIGO              float64\n",
       "ZONE1             float64\n",
       "ZONE2             float64\n",
       "MRG                object\n",
       "REGULARITY          int64\n",
       "TOP_PACK           object\n",
       "FREQ_TOP_PACK     float64\n",
       "CHURN               int64\n",
       "dtype: object"
      ]
     },
     "execution_count": 155,
     "metadata": {},
     "output_type": "execute_result"
    }
   ],
   "source": [
    "train.dtypes\n",
    "#There are 19 variables in the columns with 5 categorical(object) variable and 14 numeric variables"
   ]
  },
  {
   "cell_type": "code",
   "execution_count": 156,
   "metadata": {},
   "outputs": [
    {
     "data": {
      "text/plain": [
       "<bound method DataFrame.info of                                          user_id       REGION        TENURE  \\\n",
       "0       dcf68cc2fb515ccad7d8b9b3bd80ee2a4b270063  SAINT-LOUIS  K > 24 month   \n",
       "1       71c44b5ba328db5c4192a80f7cf8f244d9350ed0          NaN  K > 24 month   \n",
       "2       ce46411b1526c94f20a383b8cb188f8d27f82a0a  TAMBACOUNDA  K > 24 month   \n",
       "3       f467cdb6669818373c26c2bad44e01ba66f97d21       FATICK  K > 24 month   \n",
       "4       ec45e1a1888a32b5dcce0954cfec20c6e037db31       FATICK  K > 24 month   \n",
       "...                                          ...          ...           ...   \n",
       "399995  a892ad4ed0eda8dc721733200c47147763b183ec  TAMBACOUNDA  K > 24 month   \n",
       "399996  13daa3a651bf0192a413b339c4766aeafc6d1636          NaN  K > 24 month   \n",
       "399997  767f596aee426962f7d92f4de8d7b232cdc17568          NaN  K > 24 month   \n",
       "399998  b831e4d3b59a1e294e9e0a2aab391bc12d50845c          NaN  K > 24 month   \n",
       "399999  a80e3a164986e489102cfb538fa62e16ecc28adf          NaN  K > 24 month   \n",
       "\n",
       "        MONTANT  FREQUENCE_RECH  REVENUE  ARPU_SEGMENT  FREQUENCE  \\\n",
       "0       17000.0            32.0  18000.0        6000.0       34.0   \n",
       "1        4300.0            29.0   4427.0        1476.0       37.0   \n",
       "2        1500.0             3.0   1500.0         500.0        3.0   \n",
       "3        1500.0             3.0   2497.0         832.0        4.0   \n",
       "4           NaN             NaN    498.0         166.0        3.0   \n",
       "...         ...             ...      ...           ...        ...   \n",
       "399995    700.0             2.0    704.0         235.0        3.0   \n",
       "399996      NaN             NaN      NaN           NaN        NaN   \n",
       "399997    700.0             2.0    699.0         233.0        5.0   \n",
       "399998      NaN             NaN      9.0           3.0        1.0   \n",
       "399999      NaN             NaN      NaN           NaN        NaN   \n",
       "\n",
       "        DATA_VOLUME  ON_NET  ORANGE  TIGO  ZONE1  ZONE2 MRG  REGULARITY  \\\n",
       "0               NaN    97.0   355.0   6.0    NaN    NaN  NO          62   \n",
       "1            1764.0     8.0     3.0   0.0    NaN    2.0  NO          40   \n",
       "2               NaN    30.0    30.0   NaN    NaN    NaN  NO          32   \n",
       "3               0.0   159.0    45.0  19.0    NaN    NaN  NO          18   \n",
       "4               1.0     1.0     3.0   NaN    NaN    NaN  NO          50   \n",
       "...             ...     ...     ...   ...    ...    ...  ..         ...   \n",
       "399995          NaN    12.0    14.0   NaN    NaN    NaN  NO          46   \n",
       "399996          NaN     NaN     NaN   NaN    NaN    NaN  NO          14   \n",
       "399997        237.0     1.0     NaN   NaN    NaN    NaN  NO          15   \n",
       "399998          0.0     NaN     0.0   NaN    NaN    NaN  NO           5   \n",
       "399999          NaN     NaN     NaN   NaN    NaN    NaN  NO           1   \n",
       "\n",
       "                              TOP_PACK  FREQ_TOP_PACK  CHURN  \n",
       "0                All-net 500F=2000F;5d           35.0      0  \n",
       "1                 Data: 100 F=40MB,24H           22.0      0  \n",
       "2                All-net 500F=2000F;5d            3.0      0  \n",
       "3       On net 200F=Unlimited _call24H            3.0      0  \n",
       "4                                  NaN            NaN      0  \n",
       "...                                ...            ...    ...  \n",
       "399995           All-net 500F=2000F;5d            1.0      0  \n",
       "399996                             NaN            NaN      0  \n",
       "399997            Data: 100 F=40MB,24H            3.0      0  \n",
       "399998                             NaN            NaN      1  \n",
       "399999                             NaN            NaN      0  \n",
       "\n",
       "[400000 rows x 19 columns]>"
      ]
     },
     "execution_count": 156,
     "metadata": {},
     "output_type": "execute_result"
    }
   ],
   "source": [
    "train.info"
   ]
  },
  {
   "cell_type": "code",
   "execution_count": 157,
   "metadata": {},
   "outputs": [
    {
     "data": {
      "text/html": [
       "<div>\n",
       "<style scoped>\n",
       "    .dataframe tbody tr th:only-of-type {\n",
       "        vertical-align: middle;\n",
       "    }\n",
       "\n",
       "    .dataframe tbody tr th {\n",
       "        vertical-align: top;\n",
       "    }\n",
       "\n",
       "    .dataframe thead th {\n",
       "        text-align: right;\n",
       "    }\n",
       "</style>\n",
       "<table border=\"1\" class=\"dataframe\">\n",
       "  <thead>\n",
       "    <tr style=\"text-align: right;\">\n",
       "      <th></th>\n",
       "      <th>user_id</th>\n",
       "      <th>REGION</th>\n",
       "      <th>TENURE</th>\n",
       "      <th>MONTANT</th>\n",
       "      <th>FREQUENCE_RECH</th>\n",
       "      <th>REVENUE</th>\n",
       "      <th>ARPU_SEGMENT</th>\n",
       "      <th>FREQUENCE</th>\n",
       "      <th>DATA_VOLUME</th>\n",
       "      <th>ON_NET</th>\n",
       "      <th>ORANGE</th>\n",
       "      <th>TIGO</th>\n",
       "      <th>ZONE1</th>\n",
       "      <th>ZONE2</th>\n",
       "      <th>MRG</th>\n",
       "      <th>REGULARITY</th>\n",
       "      <th>TOP_PACK</th>\n",
       "      <th>FREQ_TOP_PACK</th>\n",
       "      <th>CHURN</th>\n",
       "    </tr>\n",
       "  </thead>\n",
       "  <tbody>\n",
       "    <tr>\n",
       "      <th>count</th>\n",
       "      <td>400000</td>\n",
       "      <td>242480</td>\n",
       "      <td>400000</td>\n",
       "      <td>259723.000000</td>\n",
       "      <td>259723.000000</td>\n",
       "      <td>265337.000000</td>\n",
       "      <td>265337.000000</td>\n",
       "      <td>265337.000000</td>\n",
       "      <td>203146.000000</td>\n",
       "      <td>254181.000000</td>\n",
       "      <td>233683.000000</td>\n",
       "      <td>160614.000000</td>\n",
       "      <td>31690.000000</td>\n",
       "      <td>25513.000000</td>\n",
       "      <td>400000</td>\n",
       "      <td>400000.000000</td>\n",
       "      <td>232671</td>\n",
       "      <td>232671.000000</td>\n",
       "      <td>400000.00000</td>\n",
       "    </tr>\n",
       "    <tr>\n",
       "      <th>unique</th>\n",
       "      <td>400000</td>\n",
       "      <td>14</td>\n",
       "      <td>8</td>\n",
       "      <td>NaN</td>\n",
       "      <td>NaN</td>\n",
       "      <td>NaN</td>\n",
       "      <td>NaN</td>\n",
       "      <td>NaN</td>\n",
       "      <td>NaN</td>\n",
       "      <td>NaN</td>\n",
       "      <td>NaN</td>\n",
       "      <td>NaN</td>\n",
       "      <td>NaN</td>\n",
       "      <td>NaN</td>\n",
       "      <td>1</td>\n",
       "      <td>NaN</td>\n",
       "      <td>111</td>\n",
       "      <td>NaN</td>\n",
       "      <td>NaN</td>\n",
       "    </tr>\n",
       "    <tr>\n",
       "      <th>top</th>\n",
       "      <td>649c16f0c7b4e69508550a01c1b1ed17e5ec8d83</td>\n",
       "      <td>DAKAR</td>\n",
       "      <td>K &gt; 24 month</td>\n",
       "      <td>NaN</td>\n",
       "      <td>NaN</td>\n",
       "      <td>NaN</td>\n",
       "      <td>NaN</td>\n",
       "      <td>NaN</td>\n",
       "      <td>NaN</td>\n",
       "      <td>NaN</td>\n",
       "      <td>NaN</td>\n",
       "      <td>NaN</td>\n",
       "      <td>NaN</td>\n",
       "      <td>NaN</td>\n",
       "      <td>NO</td>\n",
       "      <td>NaN</td>\n",
       "      <td>All-net 500F=2000F;5d</td>\n",
       "      <td>NaN</td>\n",
       "      <td>NaN</td>\n",
       "    </tr>\n",
       "    <tr>\n",
       "      <th>freq</th>\n",
       "      <td>1</td>\n",
       "      <td>95517</td>\n",
       "      <td>379439</td>\n",
       "      <td>NaN</td>\n",
       "      <td>NaN</td>\n",
       "      <td>NaN</td>\n",
       "      <td>NaN</td>\n",
       "      <td>NaN</td>\n",
       "      <td>NaN</td>\n",
       "      <td>NaN</td>\n",
       "      <td>NaN</td>\n",
       "      <td>NaN</td>\n",
       "      <td>NaN</td>\n",
       "      <td>NaN</td>\n",
       "      <td>400000</td>\n",
       "      <td>NaN</td>\n",
       "      <td>58675</td>\n",
       "      <td>NaN</td>\n",
       "      <td>NaN</td>\n",
       "    </tr>\n",
       "    <tr>\n",
       "      <th>mean</th>\n",
       "      <td>NaN</td>\n",
       "      <td>NaN</td>\n",
       "      <td>NaN</td>\n",
       "      <td>5522.971346</td>\n",
       "      <td>11.503733</td>\n",
       "      <td>5505.487757</td>\n",
       "      <td>1835.167658</td>\n",
       "      <td>13.951835</td>\n",
       "      <td>3369.763441</td>\n",
       "      <td>275.917586</td>\n",
       "      <td>95.532927</td>\n",
       "      <td>23.134608</td>\n",
       "      <td>7.874282</td>\n",
       "      <td>7.187003</td>\n",
       "      <td>NaN</td>\n",
       "      <td>28.046502</td>\n",
       "      <td>NaN</td>\n",
       "      <td>9.254209</td>\n",
       "      <td>0.18711</td>\n",
       "    </tr>\n",
       "    <tr>\n",
       "      <th>std</th>\n",
       "      <td>NaN</td>\n",
       "      <td>NaN</td>\n",
       "      <td>NaN</td>\n",
       "      <td>7099.640630</td>\n",
       "      <td>13.275514</td>\n",
       "      <td>7175.802367</td>\n",
       "      <td>2391.929290</td>\n",
       "      <td>14.679943</td>\n",
       "      <td>12281.867504</td>\n",
       "      <td>873.593034</td>\n",
       "      <td>204.733272</td>\n",
       "      <td>63.061871</td>\n",
       "      <td>35.642843</td>\n",
       "      <td>26.964028</td>\n",
       "      <td>NaN</td>\n",
       "      <td>22.282773</td>\n",
       "      <td>NaN</td>\n",
       "      <td>12.305563</td>\n",
       "      <td>0.39000</td>\n",
       "    </tr>\n",
       "    <tr>\n",
       "      <th>min</th>\n",
       "      <td>NaN</td>\n",
       "      <td>NaN</td>\n",
       "      <td>NaN</td>\n",
       "      <td>20.000000</td>\n",
       "      <td>1.000000</td>\n",
       "      <td>1.000000</td>\n",
       "      <td>0.000000</td>\n",
       "      <td>1.000000</td>\n",
       "      <td>0.000000</td>\n",
       "      <td>0.000000</td>\n",
       "      <td>0.000000</td>\n",
       "      <td>0.000000</td>\n",
       "      <td>0.000000</td>\n",
       "      <td>0.000000</td>\n",
       "      <td>NaN</td>\n",
       "      <td>1.000000</td>\n",
       "      <td>NaN</td>\n",
       "      <td>1.000000</td>\n",
       "      <td>0.00000</td>\n",
       "    </tr>\n",
       "    <tr>\n",
       "      <th>25%</th>\n",
       "      <td>NaN</td>\n",
       "      <td>NaN</td>\n",
       "      <td>NaN</td>\n",
       "      <td>1000.000000</td>\n",
       "      <td>2.000000</td>\n",
       "      <td>1000.000000</td>\n",
       "      <td>333.000000</td>\n",
       "      <td>3.000000</td>\n",
       "      <td>0.000000</td>\n",
       "      <td>5.000000</td>\n",
       "      <td>7.000000</td>\n",
       "      <td>2.000000</td>\n",
       "      <td>0.000000</td>\n",
       "      <td>0.000000</td>\n",
       "      <td>NaN</td>\n",
       "      <td>6.000000</td>\n",
       "      <td>NaN</td>\n",
       "      <td>2.000000</td>\n",
       "      <td>0.00000</td>\n",
       "    </tr>\n",
       "    <tr>\n",
       "      <th>50%</th>\n",
       "      <td>NaN</td>\n",
       "      <td>NaN</td>\n",
       "      <td>NaN</td>\n",
       "      <td>3000.000000</td>\n",
       "      <td>6.000000</td>\n",
       "      <td>3000.000000</td>\n",
       "      <td>1000.000000</td>\n",
       "      <td>9.000000</td>\n",
       "      <td>267.000000</td>\n",
       "      <td>27.000000</td>\n",
       "      <td>29.000000</td>\n",
       "      <td>6.000000</td>\n",
       "      <td>1.000000</td>\n",
       "      <td>2.000000</td>\n",
       "      <td>NaN</td>\n",
       "      <td>24.000000</td>\n",
       "      <td>NaN</td>\n",
       "      <td>5.000000</td>\n",
       "      <td>0.00000</td>\n",
       "    </tr>\n",
       "    <tr>\n",
       "      <th>75%</th>\n",
       "      <td>NaN</td>\n",
       "      <td>NaN</td>\n",
       "      <td>NaN</td>\n",
       "      <td>7300.000000</td>\n",
       "      <td>15.000000</td>\n",
       "      <td>7340.000000</td>\n",
       "      <td>2447.000000</td>\n",
       "      <td>19.000000</td>\n",
       "      <td>2925.000000</td>\n",
       "      <td>155.000000</td>\n",
       "      <td>99.000000</td>\n",
       "      <td>20.000000</td>\n",
       "      <td>3.000000</td>\n",
       "      <td>5.000000</td>\n",
       "      <td>NaN</td>\n",
       "      <td>51.000000</td>\n",
       "      <td>NaN</td>\n",
       "      <td>12.000000</td>\n",
       "      <td>0.00000</td>\n",
       "    </tr>\n",
       "    <tr>\n",
       "      <th>max</th>\n",
       "      <td>NaN</td>\n",
       "      <td>NaN</td>\n",
       "      <td>NaN</td>\n",
       "      <td>226550.000000</td>\n",
       "      <td>133.000000</td>\n",
       "      <td>233413.000000</td>\n",
       "      <td>77804.000000</td>\n",
       "      <td>91.000000</td>\n",
       "      <td>934576.000000</td>\n",
       "      <td>45011.000000</td>\n",
       "      <td>6788.000000</td>\n",
       "      <td>2758.000000</td>\n",
       "      <td>1657.000000</td>\n",
       "      <td>1011.000000</td>\n",
       "      <td>NaN</td>\n",
       "      <td>62.000000</td>\n",
       "      <td>NaN</td>\n",
       "      <td>629.000000</td>\n",
       "      <td>1.00000</td>\n",
       "    </tr>\n",
       "  </tbody>\n",
       "</table>\n",
       "</div>"
      ],
      "text/plain": [
       "                                         user_id  REGION        TENURE  \\\n",
       "count                                     400000  242480        400000   \n",
       "unique                                    400000      14             8   \n",
       "top     649c16f0c7b4e69508550a01c1b1ed17e5ec8d83   DAKAR  K > 24 month   \n",
       "freq                                           1   95517        379439   \n",
       "mean                                         NaN     NaN           NaN   \n",
       "std                                          NaN     NaN           NaN   \n",
       "min                                          NaN     NaN           NaN   \n",
       "25%                                          NaN     NaN           NaN   \n",
       "50%                                          NaN     NaN           NaN   \n",
       "75%                                          NaN     NaN           NaN   \n",
       "max                                          NaN     NaN           NaN   \n",
       "\n",
       "              MONTANT  FREQUENCE_RECH        REVENUE   ARPU_SEGMENT  \\\n",
       "count   259723.000000   259723.000000  265337.000000  265337.000000   \n",
       "unique            NaN             NaN            NaN            NaN   \n",
       "top               NaN             NaN            NaN            NaN   \n",
       "freq              NaN             NaN            NaN            NaN   \n",
       "mean      5522.971346       11.503733    5505.487757    1835.167658   \n",
       "std       7099.640630       13.275514    7175.802367    2391.929290   \n",
       "min         20.000000        1.000000       1.000000       0.000000   \n",
       "25%       1000.000000        2.000000    1000.000000     333.000000   \n",
       "50%       3000.000000        6.000000    3000.000000    1000.000000   \n",
       "75%       7300.000000       15.000000    7340.000000    2447.000000   \n",
       "max     226550.000000      133.000000  233413.000000   77804.000000   \n",
       "\n",
       "            FREQUENCE    DATA_VOLUME         ON_NET         ORANGE  \\\n",
       "count   265337.000000  203146.000000  254181.000000  233683.000000   \n",
       "unique            NaN            NaN            NaN            NaN   \n",
       "top               NaN            NaN            NaN            NaN   \n",
       "freq              NaN            NaN            NaN            NaN   \n",
       "mean        13.951835    3369.763441     275.917586      95.532927   \n",
       "std         14.679943   12281.867504     873.593034     204.733272   \n",
       "min          1.000000       0.000000       0.000000       0.000000   \n",
       "25%          3.000000       0.000000       5.000000       7.000000   \n",
       "50%          9.000000     267.000000      27.000000      29.000000   \n",
       "75%         19.000000    2925.000000     155.000000      99.000000   \n",
       "max         91.000000  934576.000000   45011.000000    6788.000000   \n",
       "\n",
       "                 TIGO         ZONE1         ZONE2     MRG     REGULARITY  \\\n",
       "count   160614.000000  31690.000000  25513.000000  400000  400000.000000   \n",
       "unique            NaN           NaN           NaN       1            NaN   \n",
       "top               NaN           NaN           NaN      NO            NaN   \n",
       "freq              NaN           NaN           NaN  400000            NaN   \n",
       "mean        23.134608      7.874282      7.187003     NaN      28.046502   \n",
       "std         63.061871     35.642843     26.964028     NaN      22.282773   \n",
       "min          0.000000      0.000000      0.000000     NaN       1.000000   \n",
       "25%          2.000000      0.000000      0.000000     NaN       6.000000   \n",
       "50%          6.000000      1.000000      2.000000     NaN      24.000000   \n",
       "75%         20.000000      3.000000      5.000000     NaN      51.000000   \n",
       "max       2758.000000   1657.000000   1011.000000     NaN      62.000000   \n",
       "\n",
       "                     TOP_PACK  FREQ_TOP_PACK         CHURN  \n",
       "count                  232671  232671.000000  400000.00000  \n",
       "unique                    111            NaN           NaN  \n",
       "top     All-net 500F=2000F;5d            NaN           NaN  \n",
       "freq                    58675            NaN           NaN  \n",
       "mean                      NaN       9.254209       0.18711  \n",
       "std                       NaN      12.305563       0.39000  \n",
       "min                       NaN       1.000000       0.00000  \n",
       "25%                       NaN       2.000000       0.00000  \n",
       "50%                       NaN       5.000000       0.00000  \n",
       "75%                       NaN      12.000000       0.00000  \n",
       "max                       NaN     629.000000       1.00000  "
      ]
     },
     "execution_count": 157,
     "metadata": {},
     "output_type": "execute_result"
    }
   ],
   "source": [
    "train.describe(include ='all')"
   ]
  },
  {
   "cell_type": "markdown",
   "metadata": {},
   "source": [
    "**FINDING AND TREATING DUPLICATE CASES IN THE TEST AND TRAIN DATA SET**"
   ]
  },
  {
   "cell_type": "code",
   "execution_count": 182,
   "metadata": {},
   "outputs": [
    {
     "name": "stdout",
     "output_type": "stream",
     "text": [
      "(400000, 19)\n",
      "(400000,)\n"
     ]
    }
   ],
   "source": [
    "print(train.shape)\n",
    "print (train['user_id'].unique().shape)\n",
    "\n",
    "# There are no duplicate cases"
   ]
  },
  {
   "cell_type": "markdown",
   "metadata": {},
   "source": [
    "**CHECKING FOR THE MISSING/NULL VALUES**"
   ]
  },
  {
   "cell_type": "code",
   "execution_count": 158,
   "metadata": {},
   "outputs": [
    {
     "data": {
      "text/plain": [
       "user_id                0\n",
       "REGION            157520\n",
       "TENURE                 0\n",
       "MONTANT           140277\n",
       "FREQUENCE_RECH    140277\n",
       "REVENUE           134663\n",
       "ARPU_SEGMENT      134663\n",
       "FREQUENCE         134663\n",
       "DATA_VOLUME       196854\n",
       "ON_NET            145819\n",
       "ORANGE            166317\n",
       "TIGO              239386\n",
       "ZONE1             368310\n",
       "ZONE2             374487\n",
       "MRG                    0\n",
       "REGULARITY             0\n",
       "TOP_PACK          167329\n",
       "FREQ_TOP_PACK     167329\n",
       "CHURN                  0\n",
       "dtype: int64"
      ]
     },
     "execution_count": 158,
     "metadata": {},
     "output_type": "execute_result"
    }
   ],
   "source": [
    "train.isnull().sum()"
   ]
  },
  {
   "cell_type": "code",
   "execution_count": 159,
   "metadata": {},
   "outputs": [
    {
     "name": "stdout",
     "output_type": "stream",
     "text": [
      "user_id            0.00\n",
      "REGION            39.38\n",
      "TENURE             0.00\n",
      "MONTANT           35.07\n",
      "FREQUENCE_RECH    35.07\n",
      "REVENUE           33.67\n",
      "ARPU_SEGMENT      33.67\n",
      "FREQUENCE         33.67\n",
      "DATA_VOLUME       49.21\n",
      "ON_NET            36.45\n",
      "ORANGE            41.58\n",
      "TIGO              59.85\n",
      "ZONE1             92.08\n",
      "ZONE2             93.62\n",
      "MRG                0.00\n",
      "REGULARITY         0.00\n",
      "TOP_PACK          41.83\n",
      "FREQ_TOP_PACK     41.83\n",
      "CHURN              0.00\n",
      "dtype: float64\n"
     ]
    }
   ],
   "source": [
    "#To get the percentage of missing values in each column\n",
    "\n",
    "percent_missing = train.isnull().sum() * 100 / len(train)\n",
    "print(percent_missing.round(2))"
   ]
  },
  {
   "cell_type": "markdown",
   "metadata": {},
   "source": [
    "Feaures zone1 and zone2 have 90percent missing values, it will be removed. MRG has same values all through,it means it has no variability so it will be removed. Tenure also has low variance nd will be removed as its not informative."
   ]
  },
  {
   "cell_type": "code",
   "execution_count": 183,
   "metadata": {},
   "outputs": [],
   "source": [
    "cols_to_drop = ['ZONE1', 'ZONE2', 'MRG']\n",
    "for cols in cols_to_drop:    \n",
    "    train.drop(cols, axis =1, inplace = True)\n",
    "    test.drop(cols, axis = 1, inplace = True)"
   ]
  },
  {
   "cell_type": "code",
   "execution_count": 184,
   "metadata": {},
   "outputs": [
    {
     "name": "stdout",
     "output_type": "stream",
     "text": [
      "REGION 14\n",
      "TENURE 8\n",
      "TOP_PACK 111\n",
      "CHURN 2\n"
     ]
    }
   ],
   "source": [
    "##Checking the number of unique values in the categorical variable\n",
    "categorical_col = ['REGION', 'TENURE', 'TOP_PACK', 'CHURN']\n",
    "for col in categorical_col:\n",
    "    nuniq = train[col].nunique()\n",
    "    print(col, nuniq)"
   ]
  },
  {
   "cell_type": "code",
   "execution_count": 185,
   "metadata": {},
   "outputs": [],
   "source": [
    "# missing values in Tenure will be filled with the mode value. \n",
    "mode_train = train['TENURE'].mode()\n",
    "train['TENURE'] = train['TENURE'].fillna(mode_train[0])\n",
    "test['TENURE'].fillna(test['TENURE'].mode()[0], inplace = True)"
   ]
  },
  {
   "cell_type": "code",
   "execution_count": 186,
   "metadata": {},
   "outputs": [],
   "source": [
    "# missing values in region and top_pack will be coded as a new category \"UNKNOWN_REGION\" and 'UNKNOWN_TOP_PACK'\n",
    "train['REGION'].fillna('Unknown_region', inplace = True)\n",
    "test['REGION'].fillna('Unknown_region', inplace = True)\n",
    "\n",
    "train['TOP_PACK'].fillna('Unknown_topack', inplace = True)\n",
    "test['TOP_PACK'].fillna('Unknown_topack', inplace = True)"
   ]
  },
  {
   "cell_type": "code",
   "execution_count": 187,
   "metadata": {},
   "outputs": [],
   "source": [
    "# To fill in missing values for the rest of the numeric variables, \n",
    "# For the tree-based model, we will fill with -1\n",
    "# For the other models, we will fill with the median, taking into consideration that the distribution is skewed\n",
    "\n",
    "num_col = ['MONTANT', 'FREQUENCE_RECH', 'REVENUE','ARPU_SEGMENT', 'FREQUENCE', 'DATA_VOLUME', 'ON_NET', 'ORANGE', 'TIGO', 'FREQ_TOP_PACK']\n",
    "\n",
    "#for col in num_col:\n",
    "#     test[col].fillna(-1, inplace = True)\n",
    "#     train[col].fillna(-1, inplace = True)\n",
    "    \n",
    "for col in num_col:\n",
    "    test[col].fillna(test[col].median(), inplace = True)\n",
    "    train[col].fillna(test[col].median(), inplace = True)"
   ]
  },
  {
   "cell_type": "markdown",
   "metadata": {},
   "source": [
    "**USING THE GROUPBY-FUNCTION**"
   ]
  },
  {
   "cell_type": "code",
   "execution_count": 165,
   "metadata": {},
   "outputs": [
    {
     "data": {
      "text/html": [
       "<div>\n",
       "<style scoped>\n",
       "    .dataframe tbody tr th:only-of-type {\n",
       "        vertical-align: middle;\n",
       "    }\n",
       "\n",
       "    .dataframe tbody tr th {\n",
       "        vertical-align: top;\n",
       "    }\n",
       "\n",
       "    .dataframe thead th {\n",
       "        text-align: right;\n",
       "    }\n",
       "</style>\n",
       "<table border=\"1\" class=\"dataframe\">\n",
       "  <thead>\n",
       "    <tr style=\"text-align: right;\">\n",
       "      <th></th>\n",
       "      <th>MONTANT</th>\n",
       "      <th>REVENUE</th>\n",
       "      <th>ARPU_SEGMENT</th>\n",
       "      <th>DATA_VOLUME</th>\n",
       "      <th>REGULARITY</th>\n",
       "    </tr>\n",
       "    <tr>\n",
       "      <th>REGION</th>\n",
       "      <th></th>\n",
       "      <th></th>\n",
       "      <th></th>\n",
       "      <th></th>\n",
       "      <th></th>\n",
       "    </tr>\n",
       "  </thead>\n",
       "  <tbody>\n",
       "    <tr>\n",
       "      <th>DAKAR</th>\n",
       "      <td>6712.087283</td>\n",
       "      <td>6806.060115</td>\n",
       "      <td>2268.688495</td>\n",
       "      <td>3748.944931</td>\n",
       "      <td>37.861616</td>\n",
       "    </tr>\n",
       "    <tr>\n",
       "      <th>DIOURBEL</th>\n",
       "      <td>3587.986721</td>\n",
       "      <td>3560.832379</td>\n",
       "      <td>1186.948632</td>\n",
       "      <td>2255.854882</td>\n",
       "      <td>30.421120</td>\n",
       "    </tr>\n",
       "    <tr>\n",
       "      <th>FATICK</th>\n",
       "      <td>4341.308225</td>\n",
       "      <td>4369.779000</td>\n",
       "      <td>1456.600482</td>\n",
       "      <td>840.879482</td>\n",
       "      <td>38.479211</td>\n",
       "    </tr>\n",
       "    <tr>\n",
       "      <th>KAFFRINE</th>\n",
       "      <td>4483.809803</td>\n",
       "      <td>4524.079819</td>\n",
       "      <td>1508.034959</td>\n",
       "      <td>446.068451</td>\n",
       "      <td>38.702359</td>\n",
       "    </tr>\n",
       "    <tr>\n",
       "      <th>KAOLACK</th>\n",
       "      <td>4545.288992</td>\n",
       "      <td>4564.678750</td>\n",
       "      <td>1521.567731</td>\n",
       "      <td>1526.624931</td>\n",
       "      <td>37.658297</td>\n",
       "    </tr>\n",
       "    <tr>\n",
       "      <th>KEDOUGOU</th>\n",
       "      <td>6497.237569</td>\n",
       "      <td>6509.707182</td>\n",
       "      <td>2169.895028</td>\n",
       "      <td>1035.397790</td>\n",
       "      <td>32.204420</td>\n",
       "    </tr>\n",
       "    <tr>\n",
       "      <th>KOLDA</th>\n",
       "      <td>4891.919906</td>\n",
       "      <td>4939.798723</td>\n",
       "      <td>1646.602860</td>\n",
       "      <td>447.676707</td>\n",
       "      <td>40.237507</td>\n",
       "    </tr>\n",
       "    <tr>\n",
       "      <th>LOUGA</th>\n",
       "      <td>4474.577756</td>\n",
       "      <td>4494.365149</td>\n",
       "      <td>1498.130179</td>\n",
       "      <td>878.927780</td>\n",
       "      <td>38.515692</td>\n",
       "    </tr>\n",
       "    <tr>\n",
       "      <th>MATAM</th>\n",
       "      <td>4537.861275</td>\n",
       "      <td>4568.696670</td>\n",
       "      <td>1522.901427</td>\n",
       "      <td>1013.613701</td>\n",
       "      <td>34.895147</td>\n",
       "    </tr>\n",
       "    <tr>\n",
       "      <th>SAINT-LOUIS</th>\n",
       "      <td>5561.170169</td>\n",
       "      <td>5598.741107</td>\n",
       "      <td>1866.249853</td>\n",
       "      <td>1439.769808</td>\n",
       "      <td>39.064814</td>\n",
       "    </tr>\n",
       "    <tr>\n",
       "      <th>SEDHIOU</th>\n",
       "      <td>3953.414261</td>\n",
       "      <td>3925.825127</td>\n",
       "      <td>1308.609508</td>\n",
       "      <td>1253.806452</td>\n",
       "      <td>30.439728</td>\n",
       "    </tr>\n",
       "    <tr>\n",
       "      <th>TAMBACOUNDA</th>\n",
       "      <td>5265.554853</td>\n",
       "      <td>5327.811545</td>\n",
       "      <td>1775.942276</td>\n",
       "      <td>776.665726</td>\n",
       "      <td>39.580259</td>\n",
       "    </tr>\n",
       "    <tr>\n",
       "      <th>THIES</th>\n",
       "      <td>5334.629202</td>\n",
       "      <td>5387.722988</td>\n",
       "      <td>1795.912746</td>\n",
       "      <td>1977.057620</td>\n",
       "      <td>37.749715</td>\n",
       "    </tr>\n",
       "    <tr>\n",
       "      <th>Unknown_region</th>\n",
       "      <td>3180.091398</td>\n",
       "      <td>3153.525013</td>\n",
       "      <td>1051.177400</td>\n",
       "      <td>1117.556945</td>\n",
       "      <td>13.298286</td>\n",
       "    </tr>\n",
       "    <tr>\n",
       "      <th>ZIGUINCHOR</th>\n",
       "      <td>4984.259970</td>\n",
       "      <td>5010.385344</td>\n",
       "      <td>1670.128116</td>\n",
       "      <td>1614.218345</td>\n",
       "      <td>33.038634</td>\n",
       "    </tr>\n",
       "  </tbody>\n",
       "</table>\n",
       "</div>"
      ],
      "text/plain": [
       "                    MONTANT      REVENUE  ARPU_SEGMENT  DATA_VOLUME  \\\n",
       "REGION                                                                \n",
       "DAKAR           6712.087283  6806.060115   2268.688495  3748.944931   \n",
       "DIOURBEL        3587.986721  3560.832379   1186.948632  2255.854882   \n",
       "FATICK          4341.308225  4369.779000   1456.600482   840.879482   \n",
       "KAFFRINE        4483.809803  4524.079819   1508.034959   446.068451   \n",
       "KAOLACK         4545.288992  4564.678750   1521.567731  1526.624931   \n",
       "KEDOUGOU        6497.237569  6509.707182   2169.895028  1035.397790   \n",
       "KOLDA           4891.919906  4939.798723   1646.602860   447.676707   \n",
       "LOUGA           4474.577756  4494.365149   1498.130179   878.927780   \n",
       "MATAM           4537.861275  4568.696670   1522.901427  1013.613701   \n",
       "SAINT-LOUIS     5561.170169  5598.741107   1866.249853  1439.769808   \n",
       "SEDHIOU         3953.414261  3925.825127   1308.609508  1253.806452   \n",
       "TAMBACOUNDA     5265.554853  5327.811545   1775.942276   776.665726   \n",
       "THIES           5334.629202  5387.722988   1795.912746  1977.057620   \n",
       "Unknown_region  3180.091398  3153.525013   1051.177400  1117.556945   \n",
       "ZIGUINCHOR      4984.259970  5010.385344   1670.128116  1614.218345   \n",
       "\n",
       "                REGULARITY  \n",
       "REGION                      \n",
       "DAKAR            37.861616  \n",
       "DIOURBEL         30.421120  \n",
       "FATICK           38.479211  \n",
       "KAFFRINE         38.702359  \n",
       "KAOLACK          37.658297  \n",
       "KEDOUGOU         32.204420  \n",
       "KOLDA            40.237507  \n",
       "LOUGA            38.515692  \n",
       "MATAM            34.895147  \n",
       "SAINT-LOUIS      39.064814  \n",
       "SEDHIOU          30.439728  \n",
       "TAMBACOUNDA      39.580259  \n",
       "THIES            37.749715  \n",
       "Unknown_region   13.298286  \n",
       "ZIGUINCHOR       33.038634  "
      ]
     },
     "execution_count": 165,
     "metadata": {},
     "output_type": "execute_result"
    }
   ],
   "source": [
    "train[['REGION', 'MONTANT', 'REVENUE', 'ARPU_SEGMENT', 'DATA_VOLUME', 'REGULARITY']].groupby('REGION').mean()"
   ]
  },
  {
   "cell_type": "code",
   "execution_count": 188,
   "metadata": {},
   "outputs": [
    {
     "data": {
      "text/html": [
       "<div>\n",
       "<style scoped>\n",
       "    .dataframe tbody tr th:only-of-type {\n",
       "        vertical-align: middle;\n",
       "    }\n",
       "\n",
       "    .dataframe tbody tr th {\n",
       "        vertical-align: top;\n",
       "    }\n",
       "\n",
       "    .dataframe thead th {\n",
       "        text-align: right;\n",
       "    }\n",
       "</style>\n",
       "<table border=\"1\" class=\"dataframe\">\n",
       "  <thead>\n",
       "    <tr style=\"text-align: right;\">\n",
       "      <th></th>\n",
       "      <th>MONTANT</th>\n",
       "      <th>FREQUENCE_RECH</th>\n",
       "      <th>REVENUE</th>\n",
       "      <th>FREQUENCE</th>\n",
       "      <th>FREQ_TOP_PACK</th>\n",
       "      <th>DATA_VOLUME</th>\n",
       "      <th>REGULARITY</th>\n",
       "      <th>ON_NET</th>\n",
       "    </tr>\n",
       "    <tr>\n",
       "      <th>CHURN</th>\n",
       "      <th></th>\n",
       "      <th></th>\n",
       "      <th></th>\n",
       "      <th></th>\n",
       "      <th></th>\n",
       "      <th></th>\n",
       "      <th></th>\n",
       "      <th></th>\n",
       "    </tr>\n",
       "  </thead>\n",
       "  <tbody>\n",
       "    <tr>\n",
       "      <th>0</th>\n",
       "      <td>5045.912258</td>\n",
       "      <td>10.702217</td>\n",
       "      <td>5086.249699</td>\n",
       "      <td>13.20098</td>\n",
       "      <td>8.069351</td>\n",
       "      <td>2136.389862</td>\n",
       "      <td>33.168568</td>\n",
       "      <td>220.247952</td>\n",
       "    </tr>\n",
       "    <tr>\n",
       "      <th>1</th>\n",
       "      <td>2866.830220</td>\n",
       "      <td>6.544720</td>\n",
       "      <td>2818.849848</td>\n",
       "      <td>8.30430</td>\n",
       "      <td>4.890612</td>\n",
       "      <td>569.863369</td>\n",
       "      <td>5.793945</td>\n",
       "      <td>32.803939</td>\n",
       "    </tr>\n",
       "  </tbody>\n",
       "</table>\n",
       "</div>"
      ],
      "text/plain": [
       "           MONTANT  FREQUENCE_RECH      REVENUE  FREQUENCE  FREQ_TOP_PACK  \\\n",
       "CHURN                                                                       \n",
       "0      5045.912258       10.702217  5086.249699   13.20098       8.069351   \n",
       "1      2866.830220        6.544720  2818.849848    8.30430       4.890612   \n",
       "\n",
       "       DATA_VOLUME  REGULARITY      ON_NET  \n",
       "CHURN                                       \n",
       "0      2136.389862   33.168568  220.247952  \n",
       "1       569.863369    5.793945   32.803939  "
      ]
     },
     "execution_count": 188,
     "metadata": {},
     "output_type": "execute_result"
    }
   ],
   "source": [
    "train[['CHURN', 'MONTANT','FREQUENCE_RECH','REVENUE', 'FREQUENCE', 'FREQ_TOP_PACK', 'DATA_VOLUME', 'REGULARITY', 'ON_NET']].groupby('CHURN').mean()"
   ]
  },
  {
   "cell_type": "code",
   "execution_count": 189,
   "metadata": {},
   "outputs": [
    {
     "data": {
      "text/html": [
       "<div>\n",
       "<style scoped>\n",
       "    .dataframe tbody tr th:only-of-type {\n",
       "        vertical-align: middle;\n",
       "    }\n",
       "\n",
       "    .dataframe tbody tr th {\n",
       "        vertical-align: top;\n",
       "    }\n",
       "\n",
       "    .dataframe thead th {\n",
       "        text-align: right;\n",
       "    }\n",
       "</style>\n",
       "<table border=\"1\" class=\"dataframe\">\n",
       "  <thead>\n",
       "    <tr style=\"text-align: right;\">\n",
       "      <th>TENURE</th>\n",
       "      <th>D 3-6 month</th>\n",
       "      <th>E 6-9 month</th>\n",
       "      <th>F 9-12 month</th>\n",
       "      <th>G 12-15 month</th>\n",
       "      <th>H 15-18 month</th>\n",
       "      <th>I 18-21 month</th>\n",
       "      <th>J 21-24 month</th>\n",
       "      <th>K &gt; 24 month</th>\n",
       "    </tr>\n",
       "  </thead>\n",
       "  <tbody>\n",
       "    <tr>\n",
       "      <th>REGULARITY</th>\n",
       "      <td>16.851351</td>\n",
       "      <td>31.348189</td>\n",
       "      <td>24.9345</td>\n",
       "      <td>22.849713</td>\n",
       "      <td>25.287773</td>\n",
       "      <td>25.316771</td>\n",
       "      <td>26.914839</td>\n",
       "      <td>28.202507</td>\n",
       "    </tr>\n",
       "  </tbody>\n",
       "</table>\n",
       "</div>"
      ],
      "text/plain": [
       "TENURE      D 3-6 month  E 6-9 month  F 9-12 month  G 12-15 month  \\\n",
       "REGULARITY    16.851351    31.348189       24.9345      22.849713   \n",
       "\n",
       "TENURE      H 15-18 month  I 18-21 month  J 21-24 month  K > 24 month  \n",
       "REGULARITY      25.287773      25.316771      26.914839     28.202507  "
      ]
     },
     "execution_count": 189,
     "metadata": {},
     "output_type": "execute_result"
    }
   ],
   "source": [
    "train[['TENURE', 'REGULARITY']].groupby('TENURE').mean().T\n"
   ]
  },
  {
   "cell_type": "code",
   "execution_count": 190,
   "metadata": {},
   "outputs": [
    {
     "data": {
      "text/html": [
       "<div>\n",
       "<style scoped>\n",
       "    .dataframe tbody tr th:only-of-type {\n",
       "        vertical-align: middle;\n",
       "    }\n",
       "\n",
       "    .dataframe tbody tr th {\n",
       "        vertical-align: top;\n",
       "    }\n",
       "\n",
       "    .dataframe thead th {\n",
       "        text-align: right;\n",
       "    }\n",
       "</style>\n",
       "<table border=\"1\" class=\"dataframe\">\n",
       "  <thead>\n",
       "    <tr style=\"text-align: right;\">\n",
       "      <th></th>\n",
       "      <th>REGULARITY</th>\n",
       "    </tr>\n",
       "    <tr>\n",
       "      <th>CHURN</th>\n",
       "      <th></th>\n",
       "    </tr>\n",
       "  </thead>\n",
       "  <tbody>\n",
       "    <tr>\n",
       "      <th>0</th>\n",
       "      <td>34</td>\n",
       "    </tr>\n",
       "    <tr>\n",
       "      <th>1</th>\n",
       "      <td>2</td>\n",
       "    </tr>\n",
       "  </tbody>\n",
       "</table>\n",
       "</div>"
      ],
      "text/plain": [
       "       REGULARITY\n",
       "CHURN            \n",
       "0              34\n",
       "1               2"
      ]
     },
     "execution_count": 190,
     "metadata": {},
     "output_type": "execute_result"
    }
   ],
   "source": [
    "train[['CHURN', 'REGULARITY']].groupby('CHURN').median()"
   ]
  },
  {
   "cell_type": "code",
   "execution_count": 191,
   "metadata": {},
   "outputs": [
    {
     "data": {
      "text/html": [
       "<div>\n",
       "<style scoped>\n",
       "    .dataframe tbody tr th:only-of-type {\n",
       "        vertical-align: middle;\n",
       "    }\n",
       "\n",
       "    .dataframe tbody tr th {\n",
       "        vertical-align: top;\n",
       "    }\n",
       "\n",
       "    .dataframe thead th {\n",
       "        text-align: right;\n",
       "    }\n",
       "</style>\n",
       "<table border=\"1\" class=\"dataframe\">\n",
       "  <thead>\n",
       "    <tr style=\"text-align: right;\">\n",
       "      <th></th>\n",
       "      <th>REGULARITY</th>\n",
       "    </tr>\n",
       "    <tr>\n",
       "      <th>CHURN</th>\n",
       "      <th></th>\n",
       "    </tr>\n",
       "  </thead>\n",
       "  <tbody>\n",
       "    <tr>\n",
       "      <th>0</th>\n",
       "      <td>33.168568</td>\n",
       "    </tr>\n",
       "    <tr>\n",
       "      <th>1</th>\n",
       "      <td>5.793945</td>\n",
       "    </tr>\n",
       "  </tbody>\n",
       "</table>\n",
       "</div>"
      ],
      "text/plain": [
       "       REGULARITY\n",
       "CHURN            \n",
       "0       33.168568\n",
       "1        5.793945"
      ]
     },
     "execution_count": 191,
     "metadata": {},
     "output_type": "execute_result"
    }
   ],
   "source": [
    "train[['CHURN', 'REGULARITY']].groupby('CHURN').mean()"
   ]
  },
  {
   "cell_type": "code",
   "execution_count": 169,
   "metadata": {},
   "outputs": [
    {
     "name": "stdout",
     "output_type": "stream",
     "text": [
      "CHURN\n",
      "0    325156\n",
      "1     74844\n",
      "dtype: int64\n"
     ]
    }
   ],
   "source": [
    "#the label(CHURN) is imbalance\n",
    "label_counts = train.groupby('CHURN').size() \n",
    "print(label_counts)"
   ]
  },
  {
   "cell_type": "code",
   "execution_count": 170,
   "metadata": {},
   "outputs": [
    {
     "data": {
      "text/html": [
       "<div>\n",
       "<style scoped>\n",
       "    .dataframe tbody tr th:only-of-type {\n",
       "        vertical-align: middle;\n",
       "    }\n",
       "\n",
       "    .dataframe tbody tr th {\n",
       "        vertical-align: top;\n",
       "    }\n",
       "\n",
       "    .dataframe thead th {\n",
       "        text-align: right;\n",
       "    }\n",
       "</style>\n",
       "<table border=\"1\" class=\"dataframe\">\n",
       "  <thead>\n",
       "    <tr style=\"text-align: right;\">\n",
       "      <th></th>\n",
       "      <th>REGULARITY</th>\n",
       "      <th>CHURN</th>\n",
       "    </tr>\n",
       "    <tr>\n",
       "      <th>REGION</th>\n",
       "      <th></th>\n",
       "      <th></th>\n",
       "    </tr>\n",
       "  </thead>\n",
       "  <tbody>\n",
       "    <tr>\n",
       "      <th>DAKAR</th>\n",
       "      <td>95517</td>\n",
       "      <td>95517</td>\n",
       "    </tr>\n",
       "    <tr>\n",
       "      <th>DIOURBEL</th>\n",
       "      <td>12576</td>\n",
       "      <td>12576</td>\n",
       "    </tr>\n",
       "    <tr>\n",
       "      <th>FATICK</th>\n",
       "      <td>6638</td>\n",
       "      <td>6638</td>\n",
       "    </tr>\n",
       "    <tr>\n",
       "      <th>KAFFRINE</th>\n",
       "      <td>8181</td>\n",
       "      <td>8181</td>\n",
       "    </tr>\n",
       "    <tr>\n",
       "      <th>KAOLACK</th>\n",
       "      <td>18042</td>\n",
       "      <td>18042</td>\n",
       "    </tr>\n",
       "    <tr>\n",
       "      <th>KEDOUGOU</th>\n",
       "      <td>181</td>\n",
       "      <td>181</td>\n",
       "    </tr>\n",
       "    <tr>\n",
       "      <th>KOLDA</th>\n",
       "      <td>7204</td>\n",
       "      <td>7204</td>\n",
       "    </tr>\n",
       "    <tr>\n",
       "      <th>LOUGA</th>\n",
       "      <td>18513</td>\n",
       "      <td>18513</td>\n",
       "    </tr>\n",
       "    <tr>\n",
       "      <th>MATAM</th>\n",
       "      <td>5255</td>\n",
       "      <td>5255</td>\n",
       "    </tr>\n",
       "    <tr>\n",
       "      <th>SAINT-LOUIS</th>\n",
       "      <td>22125</td>\n",
       "      <td>22125</td>\n",
       "    </tr>\n",
       "    <tr>\n",
       "      <th>SEDHIOU</th>\n",
       "      <td>589</td>\n",
       "      <td>589</td>\n",
       "    </tr>\n",
       "    <tr>\n",
       "      <th>TAMBACOUNDA</th>\n",
       "      <td>10273</td>\n",
       "      <td>10273</td>\n",
       "    </tr>\n",
       "    <tr>\n",
       "      <th>THIES</th>\n",
       "      <td>33374</td>\n",
       "      <td>33374</td>\n",
       "    </tr>\n",
       "    <tr>\n",
       "      <th>Unknown_region</th>\n",
       "      <td>157520</td>\n",
       "      <td>157520</td>\n",
       "    </tr>\n",
       "    <tr>\n",
       "      <th>ZIGUINCHOR</th>\n",
       "      <td>4012</td>\n",
       "      <td>4012</td>\n",
       "    </tr>\n",
       "  </tbody>\n",
       "</table>\n",
       "</div>"
      ],
      "text/plain": [
       "                REGULARITY   CHURN\n",
       "REGION                            \n",
       "DAKAR                95517   95517\n",
       "DIOURBEL             12576   12576\n",
       "FATICK                6638    6638\n",
       "KAFFRINE              8181    8181\n",
       "KAOLACK              18042   18042\n",
       "KEDOUGOU               181     181\n",
       "KOLDA                 7204    7204\n",
       "LOUGA                18513   18513\n",
       "MATAM                 5255    5255\n",
       "SAINT-LOUIS          22125   22125\n",
       "SEDHIOU                589     589\n",
       "TAMBACOUNDA          10273   10273\n",
       "THIES                33374   33374\n",
       "Unknown_region      157520  157520\n",
       "ZIGUINCHOR            4012    4012"
      ]
     },
     "execution_count": 170,
     "metadata": {},
     "output_type": "execute_result"
    }
   ],
   "source": [
    "train[['REGULARITY','CHURN', 'REGION']].groupby('REGION').count()"
   ]
  },
  {
   "cell_type": "code",
   "execution_count": 171,
   "metadata": {},
   "outputs": [
    {
     "data": {
      "text/html": [
       "<div>\n",
       "<style scoped>\n",
       "    .dataframe tbody tr th:only-of-type {\n",
       "        vertical-align: middle;\n",
       "    }\n",
       "\n",
       "    .dataframe tbody tr th {\n",
       "        vertical-align: top;\n",
       "    }\n",
       "\n",
       "    .dataframe thead th {\n",
       "        text-align: right;\n",
       "    }\n",
       "</style>\n",
       "<table border=\"1\" class=\"dataframe\">\n",
       "  <thead>\n",
       "    <tr style=\"text-align: right;\">\n",
       "      <th></th>\n",
       "      <th>MONTANT</th>\n",
       "      <th>FREQUENCE_RECH</th>\n",
       "      <th>REVENUE</th>\n",
       "      <th>ARPU_SEGMENT</th>\n",
       "      <th>FREQUENCE</th>\n",
       "      <th>DATA_VOLUME</th>\n",
       "      <th>ON_NET</th>\n",
       "      <th>ORANGE</th>\n",
       "      <th>TIGO</th>\n",
       "      <th>REGULARITY</th>\n",
       "      <th>FREQ_TOP_PACK</th>\n",
       "      <th>CHURN</th>\n",
       "    </tr>\n",
       "  </thead>\n",
       "  <tbody>\n",
       "    <tr>\n",
       "      <th>MONTANT</th>\n",
       "      <td>1.000000</td>\n",
       "      <td>0.808448</td>\n",
       "      <td>0.974696</td>\n",
       "      <td>0.974696</td>\n",
       "      <td>0.787252</td>\n",
       "      <td>0.275872</td>\n",
       "      <td>0.356312</td>\n",
       "      <td>0.672003</td>\n",
       "      <td>0.437056</td>\n",
       "      <td>0.493203</td>\n",
       "      <td>0.744960</td>\n",
       "      <td>-0.145367</td>\n",
       "    </tr>\n",
       "    <tr>\n",
       "      <th>FREQUENCE_RECH</th>\n",
       "      <td>0.808448</td>\n",
       "      <td>1.000000</td>\n",
       "      <td>0.812319</td>\n",
       "      <td>0.812319</td>\n",
       "      <td>0.952118</td>\n",
       "      <td>0.176732</td>\n",
       "      <td>0.425780</td>\n",
       "      <td>0.539957</td>\n",
       "      <td>0.363874</td>\n",
       "      <td>0.510911</td>\n",
       "      <td>0.864174</td>\n",
       "      <td>-0.148603</td>\n",
       "    </tr>\n",
       "    <tr>\n",
       "      <th>REVENUE</th>\n",
       "      <td>0.974696</td>\n",
       "      <td>0.812319</td>\n",
       "      <td>1.000000</td>\n",
       "      <td>1.000000</td>\n",
       "      <td>0.799557</td>\n",
       "      <td>0.284724</td>\n",
       "      <td>0.359752</td>\n",
       "      <td>0.676157</td>\n",
       "      <td>0.436096</td>\n",
       "      <td>0.501339</td>\n",
       "      <td>0.756084</td>\n",
       "      <td>-0.148293</td>\n",
       "    </tr>\n",
       "    <tr>\n",
       "      <th>ARPU_SEGMENT</th>\n",
       "      <td>0.974696</td>\n",
       "      <td>0.812319</td>\n",
       "      <td>1.000000</td>\n",
       "      <td>1.000000</td>\n",
       "      <td>0.799556</td>\n",
       "      <td>0.284724</td>\n",
       "      <td>0.359752</td>\n",
       "      <td>0.676157</td>\n",
       "      <td>0.436096</td>\n",
       "      <td>0.501338</td>\n",
       "      <td>0.756083</td>\n",
       "      <td>-0.148293</td>\n",
       "    </tr>\n",
       "    <tr>\n",
       "      <th>FREQUENCE</th>\n",
       "      <td>0.787252</td>\n",
       "      <td>0.952118</td>\n",
       "      <td>0.799557</td>\n",
       "      <td>0.799556</td>\n",
       "      <td>1.000000</td>\n",
       "      <td>0.192942</td>\n",
       "      <td>0.415416</td>\n",
       "      <td>0.496440</td>\n",
       "      <td>0.331198</td>\n",
       "      <td>0.537958</td>\n",
       "      <td>0.835913</td>\n",
       "      <td>-0.156751</td>\n",
       "    </tr>\n",
       "    <tr>\n",
       "      <th>DATA_VOLUME</th>\n",
       "      <td>0.275872</td>\n",
       "      <td>0.176732</td>\n",
       "      <td>0.284724</td>\n",
       "      <td>0.284724</td>\n",
       "      <td>0.192942</td>\n",
       "      <td>1.000000</td>\n",
       "      <td>0.008351</td>\n",
       "      <td>0.058539</td>\n",
       "      <td>0.036562</td>\n",
       "      <td>0.203505</td>\n",
       "      <td>0.140637</td>\n",
       "      <td>-0.068731</td>\n",
       "    </tr>\n",
       "    <tr>\n",
       "      <th>ON_NET</th>\n",
       "      <td>0.356312</td>\n",
       "      <td>0.425780</td>\n",
       "      <td>0.359752</td>\n",
       "      <td>0.359752</td>\n",
       "      <td>0.415416</td>\n",
       "      <td>0.008351</td>\n",
       "      <td>1.000000</td>\n",
       "      <td>0.253662</td>\n",
       "      <td>0.168969</td>\n",
       "      <td>0.289740</td>\n",
       "      <td>0.380560</td>\n",
       "      <td>-0.103455</td>\n",
       "    </tr>\n",
       "    <tr>\n",
       "      <th>ORANGE</th>\n",
       "      <td>0.672003</td>\n",
       "      <td>0.539957</td>\n",
       "      <td>0.676157</td>\n",
       "      <td>0.676157</td>\n",
       "      <td>0.496440</td>\n",
       "      <td>0.058539</td>\n",
       "      <td>0.253662</td>\n",
       "      <td>1.000000</td>\n",
       "      <td>0.433193</td>\n",
       "      <td>0.330834</td>\n",
       "      <td>0.574031</td>\n",
       "      <td>-0.116828</td>\n",
       "    </tr>\n",
       "    <tr>\n",
       "      <th>TIGO</th>\n",
       "      <td>0.437056</td>\n",
       "      <td>0.363874</td>\n",
       "      <td>0.436096</td>\n",
       "      <td>0.436096</td>\n",
       "      <td>0.331198</td>\n",
       "      <td>0.036562</td>\n",
       "      <td>0.168969</td>\n",
       "      <td>0.433193</td>\n",
       "      <td>1.000000</td>\n",
       "      <td>0.215773</td>\n",
       "      <td>0.385078</td>\n",
       "      <td>-0.077468</td>\n",
       "    </tr>\n",
       "    <tr>\n",
       "      <th>REGULARITY</th>\n",
       "      <td>0.493203</td>\n",
       "      <td>0.510911</td>\n",
       "      <td>0.501339</td>\n",
       "      <td>0.501338</td>\n",
       "      <td>0.537958</td>\n",
       "      <td>0.203505</td>\n",
       "      <td>0.289740</td>\n",
       "      <td>0.330834</td>\n",
       "      <td>0.215773</td>\n",
       "      <td>1.000000</td>\n",
       "      <td>0.422553</td>\n",
       "      <td>-0.479120</td>\n",
       "    </tr>\n",
       "    <tr>\n",
       "      <th>FREQ_TOP_PACK</th>\n",
       "      <td>0.744960</td>\n",
       "      <td>0.864174</td>\n",
       "      <td>0.756084</td>\n",
       "      <td>0.756083</td>\n",
       "      <td>0.835913</td>\n",
       "      <td>0.140637</td>\n",
       "      <td>0.380560</td>\n",
       "      <td>0.574031</td>\n",
       "      <td>0.385078</td>\n",
       "      <td>0.422553</td>\n",
       "      <td>1.000000</td>\n",
       "      <td>-0.128909</td>\n",
       "    </tr>\n",
       "    <tr>\n",
       "      <th>CHURN</th>\n",
       "      <td>-0.145367</td>\n",
       "      <td>-0.148603</td>\n",
       "      <td>-0.148293</td>\n",
       "      <td>-0.148293</td>\n",
       "      <td>-0.156751</td>\n",
       "      <td>-0.068731</td>\n",
       "      <td>-0.103455</td>\n",
       "      <td>-0.116828</td>\n",
       "      <td>-0.077468</td>\n",
       "      <td>-0.479120</td>\n",
       "      <td>-0.128909</td>\n",
       "      <td>1.000000</td>\n",
       "    </tr>\n",
       "  </tbody>\n",
       "</table>\n",
       "</div>"
      ],
      "text/plain": [
       "                 MONTANT  FREQUENCE_RECH   REVENUE  ARPU_SEGMENT  FREQUENCE  \\\n",
       "MONTANT         1.000000        0.808448  0.974696      0.974696   0.787252   \n",
       "FREQUENCE_RECH  0.808448        1.000000  0.812319      0.812319   0.952118   \n",
       "REVENUE         0.974696        0.812319  1.000000      1.000000   0.799557   \n",
       "ARPU_SEGMENT    0.974696        0.812319  1.000000      1.000000   0.799556   \n",
       "FREQUENCE       0.787252        0.952118  0.799557      0.799556   1.000000   \n",
       "DATA_VOLUME     0.275872        0.176732  0.284724      0.284724   0.192942   \n",
       "ON_NET          0.356312        0.425780  0.359752      0.359752   0.415416   \n",
       "ORANGE          0.672003        0.539957  0.676157      0.676157   0.496440   \n",
       "TIGO            0.437056        0.363874  0.436096      0.436096   0.331198   \n",
       "REGULARITY      0.493203        0.510911  0.501339      0.501338   0.537958   \n",
       "FREQ_TOP_PACK   0.744960        0.864174  0.756084      0.756083   0.835913   \n",
       "CHURN          -0.145367       -0.148603 -0.148293     -0.148293  -0.156751   \n",
       "\n",
       "                DATA_VOLUME    ON_NET    ORANGE      TIGO  REGULARITY  \\\n",
       "MONTANT            0.275872  0.356312  0.672003  0.437056    0.493203   \n",
       "FREQUENCE_RECH     0.176732  0.425780  0.539957  0.363874    0.510911   \n",
       "REVENUE            0.284724  0.359752  0.676157  0.436096    0.501339   \n",
       "ARPU_SEGMENT       0.284724  0.359752  0.676157  0.436096    0.501338   \n",
       "FREQUENCE          0.192942  0.415416  0.496440  0.331198    0.537958   \n",
       "DATA_VOLUME        1.000000  0.008351  0.058539  0.036562    0.203505   \n",
       "ON_NET             0.008351  1.000000  0.253662  0.168969    0.289740   \n",
       "ORANGE             0.058539  0.253662  1.000000  0.433193    0.330834   \n",
       "TIGO               0.036562  0.168969  0.433193  1.000000    0.215773   \n",
       "REGULARITY         0.203505  0.289740  0.330834  0.215773    1.000000   \n",
       "FREQ_TOP_PACK      0.140637  0.380560  0.574031  0.385078    0.422553   \n",
       "CHURN             -0.068731 -0.103455 -0.116828 -0.077468   -0.479120   \n",
       "\n",
       "                FREQ_TOP_PACK     CHURN  \n",
       "MONTANT              0.744960 -0.145367  \n",
       "FREQUENCE_RECH       0.864174 -0.148603  \n",
       "REVENUE              0.756084 -0.148293  \n",
       "ARPU_SEGMENT         0.756083 -0.148293  \n",
       "FREQUENCE            0.835913 -0.156751  \n",
       "DATA_VOLUME          0.140637 -0.068731  \n",
       "ON_NET               0.380560 -0.103455  \n",
       "ORANGE               0.574031 -0.116828  \n",
       "TIGO                 0.385078 -0.077468  \n",
       "REGULARITY           0.422553 -0.479120  \n",
       "FREQ_TOP_PACK        1.000000 -0.128909  \n",
       "CHURN               -0.128909  1.000000  "
      ]
     },
     "execution_count": 171,
     "metadata": {},
     "output_type": "execute_result"
    }
   ],
   "source": [
    "#to get the relationship between two variables\n",
    "train.corr()"
   ]
  },
  {
   "cell_type": "markdown",
   "metadata": {},
   "source": [
    "Revenue and ARPU SEGMENT  are totally correlated and have same correlation with others. we drop them\n",
    "Also, montant and revenue are highly collinear,they could represent the same thing.One of them will be removed."
   ]
  },
  {
   "cell_type": "markdown",
   "metadata": {},
   "source": [
    "**DATA VISUALIZATION**"
   ]
  },
  {
   "cell_type": "code",
   "execution_count": 174,
   "metadata": {},
   "outputs": [
    {
     "data": {
      "image/png": "[encoded data removed]",
      "text/plain": [
       "<Figure size 432x288 with 12 Axes>"
      ]
     },
     "metadata": {
      "needs_background": "light"
     },
     "output_type": "display_data"
    }
   ],
   "source": [
    "train.plot(kind='density', subplots=True, layout=(3,4), sharex=False)\n",
    "pyplot.show()\n",
    "def count_plot(categorical, data):\n",
    "    fig = plt.figure(edgecolor='white', figsize =(18,6))\n",
    "    axes = fig.add_axes()\n"
   ]
  },
  {
   "cell_type": "code",
   "execution_count": 175,
   "metadata": {},
   "outputs": [
    {
     "data": {
      "image/png": "[encoded data removed]",
      "text/plain": [
       "<Figure size 1296x432 with 1 Axes>"
      ]
     },
     "metadata": {
      "needs_background": "light"
     },
     "output_type": "display_data"
    },
    {
     "data": {
      "image/png": "[encoded data removed]",
      "text/plain": [
       "<Figure size 1296x432 with 1 Axes>"
      ]
     },
     "metadata": {
      "needs_background": "light"
     },
     "output_type": "display_data"
    },
    {
     "name": "stderr",
     "output_type": "stream",
     "text": [
      "C:\\Users\\USER\\anaconda3\\lib\\site-packages\\matplotlib\\backends\\backend_agg.py:211: RuntimeWarning: Glyph 9 missing from current font.\n",
      "  font.set_text(s, 0.0, flags=flags)\n",
      "C:\\Users\\USER\\anaconda3\\lib\\site-packages\\matplotlib\\backends\\backend_agg.py:180: RuntimeWarning: Glyph 9 missing from current font.\n",
      "  font.set_text(s, 0, flags=flags)\n"
     ]
    },
    {
     "data": {
      "image/png": "[encoded data removed]",
      "text/plain": [
       "<Figure size 1296x432 with 1 Axes>"
      ]
     },
     "metadata": {
      "needs_background": "light"
     },
     "output_type": "display_data"
    },
    {
     "data": {
      "image/png": "[encoded data removed]",
      "text/plain": [
       "<Figure size 1296x432 with 1 Axes>"
      ]
     },
     "metadata": {
      "needs_background": "light"
     },
     "output_type": "display_data"
    }
   ],
   "source": [
    "#count_plot for a categorical variable\n",
    "def count_plot(categorical, data):\n",
    "    fig = plt.figure(edgecolor='white', figsize =(18,6))\n",
    "    axes = fig.add_axes()\n",
    "    sns.countplot(x = categorical, data = data, color = 'black', saturation=0.2, ax = axes)\n",
    "#     sns.set_style()\n",
    "    sns.despine()\n",
    "#     rcParams['figure.figsize'] = 16,8\n",
    "#     rcParams['axes.spines.top'] = False\n",
    "#     rcParams['lines.linewidth'] = 2.5\n",
    "\n",
    "for i in categorical_col:\n",
    "    count_plot(i, train)"
   ]
  },
  {
   "cell_type": "markdown",
   "metadata": {},
   "source": [
    "FEATURE ENGINEERING"
   ]
  },
  {
   "cell_type": "code",
   "execution_count": 195,
   "metadata": {},
   "outputs": [],
   "source": [
    "#adding orange and tigo together gives off_net_call\n",
    "#adding off_net to on_net gives total_call_connection\n",
    "train['OFF_NET_CALL'] = train['ORANGE'] + train['TIGO']\n",
    "test['OFF_NET_CALL'] = test['ORANGE'] + test['TIGO']\n",
    "\n",
    "train['TOTAL_CALL_CONNECTION'] = train['OFF_NET_CALL'] + train['ON_NET']\n",
    "test['TOTAL_CALL_CONNECTION'] = test['OFF_NET_CALL'] + test['ON_NET']"
   ]
  },
  {
   "cell_type": "markdown",
   "metadata": {},
   "source": [
    "Drop Redundant Columns¶"
   ]
  },
  {
   "cell_type": "code",
   "execution_count": 196,
   "metadata": {},
   "outputs": [],
   "source": [
    "dataset = [train, test]\n",
    "for j in dataset:\n",
    "    j.drop('user_id', axis = 1, inplace = True)\n",
    "    j.drop('TIGO', axis = 1, inplace = True)\n",
    "    j.drop('ORANGE', axis = 1, inplace = True)\n",
    "    j.drop('ARPU_SEGMENT', axis = 1, inplace = True)\n",
    "    j.drop('TENURE', axis = 1, inplace = True)\n",
    "    "
   ]
  },
  {
   "cell_type": "markdown",
   "metadata": {},
   "source": [
    "**EXPLORATORY DATA ANALYSIS**"
   ]
  },
  {
   "cell_type": "markdown",
   "metadata": {},
   "source": [
    "This is done after dealing with missing values and dropping redundant columns"
   ]
  },
  {
   "cell_type": "code",
   "execution_count": 197,
   "metadata": {},
   "outputs": [
    {
     "data": {
      "text/html": [
       "<div>\n",
       "<style scoped>\n",
       "    .dataframe tbody tr th:only-of-type {\n",
       "        vertical-align: middle;\n",
       "    }\n",
       "\n",
       "    .dataframe tbody tr th {\n",
       "        vertical-align: top;\n",
       "    }\n",
       "\n",
       "    .dataframe thead th {\n",
       "        text-align: right;\n",
       "    }\n",
       "</style>\n",
       "<table border=\"1\" class=\"dataframe\">\n",
       "  <thead>\n",
       "    <tr style=\"text-align: right;\">\n",
       "      <th></th>\n",
       "      <th>MONTANT</th>\n",
       "      <th>FREQUENCE_RECH</th>\n",
       "      <th>REVENUE</th>\n",
       "      <th>FREQUENCE</th>\n",
       "      <th>DATA_VOLUME</th>\n",
       "      <th>ON_NET</th>\n",
       "      <th>REGULARITY</th>\n",
       "      <th>FREQ_TOP_PACK</th>\n",
       "      <th>CHURN</th>\n",
       "      <th>OFF_NET_CALL</th>\n",
       "      <th>TOTAL_CALL_CONNECTION</th>\n",
       "    </tr>\n",
       "  </thead>\n",
       "  <tbody>\n",
       "    <tr>\n",
       "      <th>count</th>\n",
       "      <td>400000.000000</td>\n",
       "      <td>400000.000000</td>\n",
       "      <td>400000.000000</td>\n",
       "      <td>400000.000000</td>\n",
       "      <td>400000.00000</td>\n",
       "      <td>400000.000000</td>\n",
       "      <td>400000.000000</td>\n",
       "      <td>400000.000000</td>\n",
       "      <td>400000.00000</td>\n",
       "      <td>400000.000000</td>\n",
       "      <td>400000.000000</td>\n",
       "    </tr>\n",
       "    <tr>\n",
       "      <th>mean</th>\n",
       "      <td>4638.184218</td>\n",
       "      <td>9.924307</td>\n",
       "      <td>4661.996512</td>\n",
       "      <td>12.284762</td>\n",
       "      <td>1843.27709</td>\n",
       "      <td>185.175302</td>\n",
       "      <td>28.046502</td>\n",
       "      <td>7.474577</td>\n",
       "      <td>0.18711</td>\n",
       "      <td>80.333388</td>\n",
       "      <td>265.508690</td>\n",
       "    </tr>\n",
       "    <tr>\n",
       "      <th>std</th>\n",
       "      <td>5846.168099</td>\n",
       "      <td>10.911098</td>\n",
       "      <td>5963.116995</td>\n",
       "      <td>12.183044</td>\n",
       "      <td>8888.92481</td>\n",
       "      <td>706.616942</td>\n",
       "      <td>22.282773</td>\n",
       "      <td>9.616928</td>\n",
       "      <td>0.39000</td>\n",
       "      <td>181.445622</td>\n",
       "      <td>774.165888</td>\n",
       "    </tr>\n",
       "    <tr>\n",
       "      <th>min</th>\n",
       "      <td>20.000000</td>\n",
       "      <td>1.000000</td>\n",
       "      <td>1.000000</td>\n",
       "      <td>1.000000</td>\n",
       "      <td>0.00000</td>\n",
       "      <td>0.000000</td>\n",
       "      <td>1.000000</td>\n",
       "      <td>1.000000</td>\n",
       "      <td>0.00000</td>\n",
       "      <td>0.000000</td>\n",
       "      <td>0.000000</td>\n",
       "    </tr>\n",
       "    <tr>\n",
       "      <th>25%</th>\n",
       "      <td>2000.000000</td>\n",
       "      <td>4.000000</td>\n",
       "      <td>1900.000000</td>\n",
       "      <td>6.000000</td>\n",
       "      <td>240.00000</td>\n",
       "      <td>12.000000</td>\n",
       "      <td>6.000000</td>\n",
       "      <td>4.000000</td>\n",
       "      <td>0.00000</td>\n",
       "      <td>27.000000</td>\n",
       "      <td>41.000000</td>\n",
       "    </tr>\n",
       "    <tr>\n",
       "      <th>50%</th>\n",
       "      <td>3000.000000</td>\n",
       "      <td>7.000000</td>\n",
       "      <td>3000.000000</td>\n",
       "      <td>9.000000</td>\n",
       "      <td>268.00000</td>\n",
       "      <td>27.000000</td>\n",
       "      <td>24.000000</td>\n",
       "      <td>5.000000</td>\n",
       "      <td>0.00000</td>\n",
       "      <td>34.000000</td>\n",
       "      <td>61.000000</td>\n",
       "    </tr>\n",
       "    <tr>\n",
       "      <th>75%</th>\n",
       "      <td>4600.000000</td>\n",
       "      <td>10.000000</td>\n",
       "      <td>4698.000000</td>\n",
       "      <td>13.000000</td>\n",
       "      <td>301.00000</td>\n",
       "      <td>55.000000</td>\n",
       "      <td>51.000000</td>\n",
       "      <td>6.000000</td>\n",
       "      <td>0.00000</td>\n",
       "      <td>51.000000</td>\n",
       "      <td>140.000000</td>\n",
       "    </tr>\n",
       "    <tr>\n",
       "      <th>max</th>\n",
       "      <td>226550.000000</td>\n",
       "      <td>133.000000</td>\n",
       "      <td>233413.000000</td>\n",
       "      <td>91.000000</td>\n",
       "      <td>934576.00000</td>\n",
       "      <td>45011.000000</td>\n",
       "      <td>62.000000</td>\n",
       "      <td>629.000000</td>\n",
       "      <td>1.00000</td>\n",
       "      <td>6794.000000</td>\n",
       "      <td>45048.000000</td>\n",
       "    </tr>\n",
       "  </tbody>\n",
       "</table>\n",
       "</div>"
      ],
      "text/plain": [
       "             MONTANT  FREQUENCE_RECH        REVENUE      FREQUENCE  \\\n",
       "count  400000.000000   400000.000000  400000.000000  400000.000000   \n",
       "mean     4638.184218        9.924307    4661.996512      12.284762   \n",
       "std      5846.168099       10.911098    5963.116995      12.183044   \n",
       "min        20.000000        1.000000       1.000000       1.000000   \n",
       "25%      2000.000000        4.000000    1900.000000       6.000000   \n",
       "50%      3000.000000        7.000000    3000.000000       9.000000   \n",
       "75%      4600.000000       10.000000    4698.000000      13.000000   \n",
       "max    226550.000000      133.000000  233413.000000      91.000000   \n",
       "\n",
       "        DATA_VOLUME         ON_NET     REGULARITY  FREQ_TOP_PACK  \\\n",
       "count  400000.00000  400000.000000  400000.000000  400000.000000   \n",
       "mean     1843.27709     185.175302      28.046502       7.474577   \n",
       "std      8888.92481     706.616942      22.282773       9.616928   \n",
       "min         0.00000       0.000000       1.000000       1.000000   \n",
       "25%       240.00000      12.000000       6.000000       4.000000   \n",
       "50%       268.00000      27.000000      24.000000       5.000000   \n",
       "75%       301.00000      55.000000      51.000000       6.000000   \n",
       "max    934576.00000   45011.000000      62.000000     629.000000   \n",
       "\n",
       "              CHURN   OFF_NET_CALL  TOTAL_CALL_CONNECTION  \n",
       "count  400000.00000  400000.000000          400000.000000  \n",
       "mean        0.18711      80.333388             265.508690  \n",
       "std         0.39000     181.445622             774.165888  \n",
       "min         0.00000       0.000000               0.000000  \n",
       "25%         0.00000      27.000000              41.000000  \n",
       "50%         0.00000      34.000000              61.000000  \n",
       "75%         0.00000      51.000000             140.000000  \n",
       "max         1.00000    6794.000000           45048.000000  "
      ]
     },
     "execution_count": 197,
     "metadata": {},
     "output_type": "execute_result"
    }
   ],
   "source": [
    "train.describe()"
   ]
  },
  {
   "cell_type": "markdown",
   "metadata": {},
   "source": [
    "To visualize univariate(numeric)"
   ]
  },
  {
   "cell_type": "code",
   "execution_count": 198,
   "metadata": {},
   "outputs": [],
   "source": [
    "cat_col = ['region', 'tenure', 'top_pack', 'churn']\n",
    "num_col = ['montant', 'frequence_rech', 'revenue','arpu_segment', 'frequence', 'data_volume', 'on_net',\n",
    "           'freq_top_pack', 'regularity', 'call_volume']"
   ]
  },
  {
   "cell_type": "code",
   "execution_count": 199,
   "metadata": {},
   "outputs": [
    {
     "name": "stdout",
     "output_type": "stream",
     "text": [
      "REGION                   0.0\n",
      "MONTANT                  0.0\n",
      "FREQUENCE_RECH           0.0\n",
      "REVENUE                  0.0\n",
      "FREQUENCE                0.0\n",
      "DATA_VOLUME              0.0\n",
      "ON_NET                   0.0\n",
      "REGULARITY               0.0\n",
      "TOP_PACK                 0.0\n",
      "FREQ_TOP_PACK            0.0\n",
      "CHURN                    0.0\n",
      "OFF_NET_CALL             0.0\n",
      "TOTAL_CALL_CONNECTION    0.0\n",
      "dtype: float64\n"
     ]
    }
   ],
   "source": [
    "#To get the percentage of missing values in each column\n",
    "percent_missing = train.isnull().sum()*100/len(train)\n",
    "print(percent_missing.round(2))"
   ]
  },
  {
   "cell_type": "markdown",
   "metadata": {},
   "source": [
    "**DATA TRANSFORMS(PRE-PROCESSING)**\n",
    "#encoding the categorical variables with LabelEncoder and OneHotEncoder"
   ]
  },
  {
   "cell_type": "code",
   "execution_count": null,
   "metadata": {},
   "outputs": [],
   "source": [
    "#from sklearn.preprocessing import LabelEncoder\n",
    "#for i in ['REGION','TOP_PACK']:\n",
    "    #train[i] = LabelEncoder().fit_transform(train[i])\n",
    "    #test[i] = LabelEncoder().fit_transform(test[i])"
   ]
  },
  {
   "cell_type": "code",
   "execution_count": null,
   "metadata": {},
   "outputs": [],
   "source": [
    "from sklearn.preprocessing import OneHotEncoder\n",
    "onehotencoder = OneHotEncoder()\n",
    "for i in ['REGION','TOP_PACK']:\n",
    "    X[i] = OneHotEncoder().fit_transform(X[i].values.reshape(-1,1)).toarray()\n",
    "    \n",
    "    X_test[i] = OneHotEncoder().fit_transform(X_test[i].values.reshape(-1,1)).toarray()"
   ]
  },
  {
   "cell_type": "code",
   "execution_count": null,
   "metadata": {},
   "outputs": [],
   "source": [
    "from sklearn.model_selection import train_test_split"
   ]
  },
  {
   "cell_type": "code",
   "execution_count": null,
   "metadata": {},
   "outputs": [],
   "source": [
    "X_train,X_vali,y_train,y_vali = train_test_split(X,y,test_size = 0.2,stratify = y,random_state = 42)"
   ]
  },
  {
   "cell_type": "code",
   "execution_count": null,
   "metadata": {},
   "outputs": [],
   "source": [
    "#stratify y to ensure the target \"CHURN\" is evenly distributed in the train and validation sets"
   ]
  },
  {
   "cell_type": "code",
   "execution_count": null,
   "metadata": {},
   "outputs": [],
   "source": [
    "#scaling our dataset(preprocessing)"
   ]
  },
  {
   "cell_type": "code",
   "execution_count": null,
   "metadata": {},
   "outputs": [],
   "source": [
    "#from sklearn.linear_model import LogisticRegression\n",
    "#from sklearn.ensemble import RandomForestClassifier\n",
    "#from sklearn.preprocessing import StandardScaler\n",
    "#from sklearn.pipeline import Pipeline\n",
    "#from sklearn import tree"
   ]
  },
  {
   "cell_type": "code",
   "execution_count": null,
   "metadata": {},
   "outputs": [],
   "source": [
    "#from sklearn.pipeline import Pipeline this is "
   ]
  },
  {
   "cell_type": "code",
   "execution_count": null,
   "metadata": {},
   "outputs": [],
   "source": [
    "#pipe = Pipeline([('scaler',StandardScaler()),('model',LogisticRegression())])"
   ]
  },
  {
   "cell_type": "code",
   "execution_count": null,
   "metadata": {},
   "outputs": [],
   "source": [
    "#pipe.fit(X_train,y_train)"
   ]
  },
  {
   "cell_type": "code",
   "execution_count": null,
   "metadata": {},
   "outputs": [],
   "source": [
    "#prediction = pipe.predict(X_vali)"
   ]
  },
  {
   "cell_type": "code",
   "execution_count": null,
   "metadata": {},
   "outputs": [],
   "source": [
    "#from sklearn.metrics import log_loss, accuracy_score\n",
    "\n",
    "#score = accuracy_score(y_vali,prediction)\n",
    "#print('Accuracy on validation set:', score)"
   ]
  },
  {
   "cell_type": "markdown",
   "metadata": {},
   "source": [
    "**MAKING PREDICTION AND SAVE TO A SUBMISSION FILE**"
   ]
  },
  {
   "cell_type": "code",
   "execution_count": null,
   "metadata": {},
   "outputs": [],
   "source": [
    "#pipe.fit(X,y)"
   ]
  },
  {
   "cell_type": "code",
   "execution_count": null,
   "metadata": {},
   "outputs": [],
   "source": [
    "#pred = pipe.predict_proba(X_test)[:,1]"
   ]
  },
  {
   "cell_type": "code",
   "execution_count": null,
   "metadata": {},
   "outputs": [],
   "source": [
    "#pd.DataFrame({'user_id':test['user_id'],'CHURN':pred}).to_csv('starter-submission.csv',index =False)"
   ]
  },
  {
   "cell_type": "markdown",
   "metadata": {},
   "source": [
    "IMPROVING THE MODEL"
   ]
  },
  {
   "cell_type": "code",
   "execution_count": null,
   "metadata": {},
   "outputs": [],
   "source": [
    "from sklearn.linear_model import LogisticRegression\n",
    "from sklearn.ensemble import RandomForestClassifier\n",
    "from sklearn.preprocessing import StandardScaler\n",
    "from sklearn.pipeline import Pipeline\n",
    "from sklearn.discriminant_analysis import LinearDiscriminantAnalysis\n",
    "from sklearn.neighbors import KNeighborsClassifier\n",
    "from sklearn.tree import DecisionTreeClassifier\n",
    "from sklearn import svm\n",
    "from sklearn.metrics import log_loss"
   ]
  },
  {
   "cell_type": "code",
   "execution_count": null,
   "metadata": {},
   "outputs": [],
   "source": [
    "#pipe = Pipeline([('scaler',StandardScaler()),('model',RandomForestClassifier())])\n",
    "#pipe.fit(X_train,y_train)\n",
    "#prediction = pipe.predict(X_vali)"
   ]
  },
  {
   "cell_type": "code",
   "execution_count": null,
   "metadata": {},
   "outputs": [],
   "source": [
    "#from sklearn.metrics import log_loss, accuracy_score\n",
    "\n",
    "#score = accuracy_score(y_vali,prediction)\n",
    "#print('Accuracy on validation set:', score)"
   ]
  },
  {
   "cell_type": "code",
   "execution_count": null,
   "metadata": {},
   "outputs": [],
   "source": [
    "#pipe.fit(X,y)"
   ]
  },
  {
   "cell_type": "code",
   "execution_count": null,
   "metadata": {},
   "outputs": [],
   "source": [
    "#pred = pipe.predict_proba(X_test)[:,1]"
   ]
  },
  {
   "cell_type": "code",
   "execution_count": null,
   "metadata": {},
   "outputs": [],
   "source": [
    "#pd.DataFrame({'user_id':test['user_id'],'CHURN':pred}).to_csv('starter-submission1.csv',index =False)"
   ]
  },
  {
   "cell_type": "code",
   "execution_count": null,
   "metadata": {},
   "outputs": [],
   "source": [
    "pipe = Pipeline([('scaler',StandardScaler()),('model',KNeighborsClassifier())])\n",
    "pipe.fit(X_train,y_train)\n",
    "prediction = pipe.predict(X_vali)"
   ]
  },
  {
   "cell_type": "code",
   "execution_count": null,
   "metadata": {},
   "outputs": [],
   "source": [
    "from sklearn.metrics import log_loss, accuracy_score\n",
    "\n",
    "score = accuracy_score(y_vali,prediction)\n",
    "print('Accuracy on validation set:', score)"
   ]
  },
  {
   "cell_type": "code",
   "execution_count": null,
   "metadata": {},
   "outputs": [],
   "source": [
    "pipe.fit(X,y)"
   ]
  },
  {
   "cell_type": "code",
   "execution_count": null,
   "metadata": {},
   "outputs": [],
   "source": [
    "pred = pipe.predict_proba(X_test)[:,1]"
   ]
  },
  {
   "cell_type": "code",
   "execution_count": null,
   "metadata": {},
   "outputs": [],
   "source": [
    "pd.DataFrame({'user_id':test['user_id'],'CHURN':pred}).to_csv('starter-submission2.csv',index =False)"
   ]
  },
  {
   "cell_type": "code",
   "execution_count": null,
   "metadata": {},
   "outputs": [],
   "source": []
  }
 ],
 "metadata": {
  "kernelspec": {
   "display_name": "Python 3",
   "language": "python",
   "name": "python3"
  },
  "language_info": {
   "codemirror_mode": {
    "name": "ipython",
    "version": 3
   },
   "file_extension": ".py",
   "mimetype": "text/x-python",
   "name": "python",
   "nbconvert_exporter": "python",
   "pygments_lexer": "ipython3",
   "version": "3.7.6"
  }
 },
 "nbformat": 4,
 "nbformat_minor": 4
}
