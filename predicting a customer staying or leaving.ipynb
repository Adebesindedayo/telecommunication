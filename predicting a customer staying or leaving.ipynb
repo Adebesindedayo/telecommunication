{
 "cells": [
  {
   "cell_type": "code",
   "execution_count": 60,
   "metadata": {},
   "outputs": [],
   "source": [
    "import pandas as pd\n",
    "import matplotlib.pyplot as plt\n",
    "import seaborn as sns\n",
    "import numpy as np\n",
    "import numpy.random as nr\n",
    "import math\n",
    "\n",
    "%matplotlib inline"
   ]
  },
  {
   "cell_type": "code",
   "execution_count": 61,
   "metadata": {},
   "outputs": [
    {
     "data": {
      "text/plain": [
       "(400000, 19)"
      ]
     },
     "execution_count": 61,
     "metadata": {},
     "output_type": "execute_result"
    }
   ],
   "source": [
    "telecom = pd.read_csv('train.csv')\n",
    "telecom.shape"
   ]
  },
  {
   "cell_type": "code",
   "execution_count": 62,
   "metadata": {},
   "outputs": [
    {
     "data": {
      "text/html": [
       "<div>\n",
       "<style scoped>\n",
       "    .dataframe tbody tr th:only-of-type {\n",
       "        vertical-align: middle;\n",
       "    }\n",
       "\n",
       "    .dataframe tbody tr th {\n",
       "        vertical-align: top;\n",
       "    }\n",
       "\n",
       "    .dataframe thead th {\n",
       "        text-align: right;\n",
       "    }\n",
       "</style>\n",
       "<table border=\"1\" class=\"dataframe\">\n",
       "  <thead>\n",
       "    <tr style=\"text-align: right;\">\n",
       "      <th></th>\n",
       "      <th>user_id</th>\n",
       "      <th>REGION</th>\n",
       "      <th>TENURE</th>\n",
       "      <th>MONTANT</th>\n",
       "      <th>FREQUENCE_RECH</th>\n",
       "      <th>REVENUE</th>\n",
       "      <th>ARPU_SEGMENT</th>\n",
       "      <th>FREQUENCE</th>\n",
       "      <th>DATA_VOLUME</th>\n",
       "      <th>ON_NET</th>\n",
       "      <th>ORANGE</th>\n",
       "      <th>TIGO</th>\n",
       "      <th>ZONE1</th>\n",
       "      <th>ZONE2</th>\n",
       "      <th>MRG</th>\n",
       "      <th>REGULARITY</th>\n",
       "      <th>TOP_PACK</th>\n",
       "      <th>FREQ_TOP_PACK</th>\n",
       "      <th>CHURN</th>\n",
       "    </tr>\n",
       "  </thead>\n",
       "  <tbody>\n",
       "    <tr>\n",
       "      <th>0</th>\n",
       "      <td>dcf68cc2fb515ccad7d8b9b3bd80ee2a4b270063</td>\n",
       "      <td>SAINT-LOUIS</td>\n",
       "      <td>K &gt; 24 month</td>\n",
       "      <td>17000.0</td>\n",
       "      <td>32.0</td>\n",
       "      <td>18000.0</td>\n",
       "      <td>6000.0</td>\n",
       "      <td>34.0</td>\n",
       "      <td>NaN</td>\n",
       "      <td>97.0</td>\n",
       "      <td>355.0</td>\n",
       "      <td>6.0</td>\n",
       "      <td>NaN</td>\n",
       "      <td>NaN</td>\n",
       "      <td>NO</td>\n",
       "      <td>62</td>\n",
       "      <td>All-net 500F=2000F;5d</td>\n",
       "      <td>35.0</td>\n",
       "      <td>0</td>\n",
       "    </tr>\n",
       "    <tr>\n",
       "      <th>1</th>\n",
       "      <td>71c44b5ba328db5c4192a80f7cf8f244d9350ed0</td>\n",
       "      <td>NaN</td>\n",
       "      <td>K &gt; 24 month</td>\n",
       "      <td>4300.0</td>\n",
       "      <td>29.0</td>\n",
       "      <td>4427.0</td>\n",
       "      <td>1476.0</td>\n",
       "      <td>37.0</td>\n",
       "      <td>1764.0</td>\n",
       "      <td>8.0</td>\n",
       "      <td>3.0</td>\n",
       "      <td>0.0</td>\n",
       "      <td>NaN</td>\n",
       "      <td>2.0</td>\n",
       "      <td>NO</td>\n",
       "      <td>40</td>\n",
       "      <td>Data: 100 F=40MB,24H</td>\n",
       "      <td>22.0</td>\n",
       "      <td>0</td>\n",
       "    </tr>\n",
       "    <tr>\n",
       "      <th>2</th>\n",
       "      <td>ce46411b1526c94f20a383b8cb188f8d27f82a0a</td>\n",
       "      <td>TAMBACOUNDA</td>\n",
       "      <td>K &gt; 24 month</td>\n",
       "      <td>1500.0</td>\n",
       "      <td>3.0</td>\n",
       "      <td>1500.0</td>\n",
       "      <td>500.0</td>\n",
       "      <td>3.0</td>\n",
       "      <td>NaN</td>\n",
       "      <td>30.0</td>\n",
       "      <td>30.0</td>\n",
       "      <td>NaN</td>\n",
       "      <td>NaN</td>\n",
       "      <td>NaN</td>\n",
       "      <td>NO</td>\n",
       "      <td>32</td>\n",
       "      <td>All-net 500F=2000F;5d</td>\n",
       "      <td>3.0</td>\n",
       "      <td>0</td>\n",
       "    </tr>\n",
       "  </tbody>\n",
       "</table>\n",
       "</div>"
      ],
      "text/plain": [
       "                                    user_id       REGION        TENURE  \\\n",
       "0  dcf68cc2fb515ccad7d8b9b3bd80ee2a4b270063  SAINT-LOUIS  K > 24 month   \n",
       "1  71c44b5ba328db5c4192a80f7cf8f244d9350ed0          NaN  K > 24 month   \n",
       "2  ce46411b1526c94f20a383b8cb188f8d27f82a0a  TAMBACOUNDA  K > 24 month   \n",
       "\n",
       "   MONTANT  FREQUENCE_RECH  REVENUE  ARPU_SEGMENT  FREQUENCE  DATA_VOLUME  \\\n",
       "0  17000.0            32.0  18000.0        6000.0       34.0          NaN   \n",
       "1   4300.0            29.0   4427.0        1476.0       37.0       1764.0   \n",
       "2   1500.0             3.0   1500.0         500.0        3.0          NaN   \n",
       "\n",
       "   ON_NET  ORANGE  TIGO  ZONE1  ZONE2 MRG  REGULARITY               TOP_PACK  \\\n",
       "0    97.0   355.0   6.0    NaN    NaN  NO          62  All-net 500F=2000F;5d   \n",
       "1     8.0     3.0   0.0    NaN    2.0  NO          40   Data: 100 F=40MB,24H   \n",
       "2    30.0    30.0   NaN    NaN    NaN  NO          32  All-net 500F=2000F;5d   \n",
       "\n",
       "   FREQ_TOP_PACK  CHURN  \n",
       "0           35.0      0  \n",
       "1           22.0      0  \n",
       "2            3.0      0  "
      ]
     },
     "execution_count": 62,
     "metadata": {},
     "output_type": "execute_result"
    }
   ],
   "source": [
    "telecom.head(3)"
   ]
  },
  {
   "cell_type": "code",
   "execution_count": 63,
   "metadata": {},
   "outputs": [
    {
     "name": "stdout",
     "output_type": "stream",
     "text": [
      "Index(['user_id', 'REGION', 'TENURE', 'MONTANT', 'FREQUENCE_RECH', 'REVENUE',\n",
      "       'ARPU_SEGMENT', 'FREQUENCE', 'DATA_VOLUME', 'ON_NET', 'ORANGE', 'TIGO',\n",
      "       'ZONE1', 'ZONE2', 'MRG', 'REGULARITY', 'TOP_PACK', 'FREQ_TOP_PACK',\n",
      "       'CHURN'],\n",
      "      dtype='object')\n",
      "             MONTANT  FREQUENCE_RECH        REVENUE   ARPU_SEGMENT  \\\n",
      "count  259723.000000   259723.000000  265337.000000  265337.000000   \n",
      "mean     5522.971346       11.503733    5505.487757    1835.167658   \n",
      "std      7099.640630       13.275514    7175.802367    2391.929290   \n",
      "min        20.000000        1.000000       1.000000       0.000000   \n",
      "25%      1000.000000        2.000000    1000.000000     333.000000   \n",
      "50%      3000.000000        6.000000    3000.000000    1000.000000   \n",
      "75%      7300.000000       15.000000    7340.000000    2447.000000   \n",
      "max    226550.000000      133.000000  233413.000000   77804.000000   \n",
      "\n",
      "           FREQUENCE    DATA_VOLUME         ON_NET         ORANGE  \\\n",
      "count  265337.000000  203146.000000  254181.000000  233683.000000   \n",
      "mean       13.951835    3369.763441     275.917586      95.532927   \n",
      "std        14.679943   12281.867504     873.593034     204.733272   \n",
      "min         1.000000       0.000000       0.000000       0.000000   \n",
      "25%         3.000000       0.000000       5.000000       7.000000   \n",
      "50%         9.000000     267.000000      27.000000      29.000000   \n",
      "75%        19.000000    2925.000000     155.000000      99.000000   \n",
      "max        91.000000  934576.000000   45011.000000    6788.000000   \n",
      "\n",
      "                TIGO         ZONE1         ZONE2     REGULARITY  \\\n",
      "count  160614.000000  31690.000000  25513.000000  400000.000000   \n",
      "mean       23.134608      7.874282      7.187003      28.046502   \n",
      "std        63.061871     35.642843     26.964028      22.282773   \n",
      "min         0.000000      0.000000      0.000000       1.000000   \n",
      "25%         2.000000      0.000000      0.000000       6.000000   \n",
      "50%         6.000000      1.000000      2.000000      24.000000   \n",
      "75%        20.000000      3.000000      5.000000      51.000000   \n",
      "max      2758.000000   1657.000000   1011.000000      62.000000   \n",
      "\n",
      "       FREQ_TOP_PACK         CHURN  \n",
      "count  232671.000000  400000.00000  \n",
      "mean        9.254209       0.18711  \n",
      "std        12.305563       0.39000  \n",
      "min         1.000000       0.00000  \n",
      "25%         2.000000       0.00000  \n",
      "50%         5.000000       0.00000  \n",
      "75%        12.000000       0.00000  \n",
      "max       629.000000       1.00000  \n",
      "user_id            object\n",
      "REGION             object\n",
      "TENURE             object\n",
      "MONTANT           float64\n",
      "FREQUENCE_RECH    float64\n",
      "REVENUE           float64\n",
      "ARPU_SEGMENT      float64\n",
      "FREQUENCE         float64\n",
      "DATA_VOLUME       float64\n",
      "ON_NET            float64\n",
      "ORANGE            float64\n",
      "TIGO              float64\n",
      "ZONE1             float64\n",
      "ZONE2             float64\n",
      "MRG                object\n",
      "REGULARITY          int64\n",
      "TOP_PACK           object\n",
      "FREQ_TOP_PACK     float64\n",
      "CHURN               int64\n",
      "dtype: object\n",
      "<class 'pandas.core.frame.DataFrame'>\n",
      "RangeIndex: 400000 entries, 0 to 399999\n",
      "Data columns (total 19 columns):\n",
      " #   Column          Non-Null Count   Dtype  \n",
      "---  ------          --------------   -----  \n",
      " 0   user_id         400000 non-null  object \n",
      " 1   REGION          242480 non-null  object \n",
      " 2   TENURE          400000 non-null  object \n",
      " 3   MONTANT         259723 non-null  float64\n",
      " 4   FREQUENCE_RECH  259723 non-null  float64\n",
      " 5   REVENUE         265337 non-null  float64\n",
      " 6   ARPU_SEGMENT    265337 non-null  float64\n",
      " 7   FREQUENCE       265337 non-null  float64\n",
      " 8   DATA_VOLUME     203146 non-null  float64\n",
      " 9   ON_NET          254181 non-null  float64\n",
      " 10  ORANGE          233683 non-null  float64\n",
      " 11  TIGO            160614 non-null  float64\n",
      " 12  ZONE1           31690 non-null   float64\n",
      " 13  ZONE2           25513 non-null   float64\n",
      " 14  MRG             400000 non-null  object \n",
      " 15  REGULARITY      400000 non-null  int64  \n",
      " 16  TOP_PACK        232671 non-null  object \n",
      " 17  FREQ_TOP_PACK   232671 non-null  float64\n",
      " 18  CHURN           400000 non-null  int64  \n",
      "dtypes: float64(12), int64(2), object(5)\n",
      "memory usage: 58.0+ MB\n",
      "None\n"
     ]
    }
   ],
   "source": [
    "print(telecom.columns)\n",
    "print(telecom.describe())\n",
    "print(telecom.dtypes)\n",
    "print(telecom.info())"
   ]
  },
  {
   "cell_type": "code",
   "execution_count": 64,
   "metadata": {},
   "outputs": [
    {
     "name": "stdout",
     "output_type": "stream",
     "text": [
      "user_id                0\n",
      "REGION            157520\n",
      "TENURE                 0\n",
      "MONTANT           140277\n",
      "FREQUENCE_RECH    140277\n",
      "REVENUE           134663\n",
      "ARPU_SEGMENT      134663\n",
      "FREQUENCE         134663\n",
      "DATA_VOLUME       196854\n",
      "ON_NET            145819\n",
      "ORANGE            166317\n",
      "TIGO              239386\n",
      "ZONE1             368310\n",
      "ZONE2             374487\n",
      "MRG                    0\n",
      "REGULARITY             0\n",
      "TOP_PACK          167329\n",
      "FREQ_TOP_PACK     167329\n",
      "CHURN                  0\n",
      "dtype: int64\n"
     ]
    }
   ],
   "source": [
    "missing = telecom.isnull().sum()\n",
    "print(missing)"
   ]
  },
  {
   "cell_type": "code",
   "execution_count": 65,
   "metadata": {},
   "outputs": [],
   "source": [
    "def clean_telecom(telecom):\n",
    "    col = telecom.columns\n",
    "    col = ['REGION', 'TENURE', 'MONTANT', 'FREQUENCE_RECH', 'REVENUE',\n",
    "       'ARPU_SEGMENT', 'FREQUENCE', 'DATA_VOLUME', 'ON_NET', 'ORANGE', 'TIGO',\n",
    "       'ZONE1', 'ZONE2', 'MRG', 'REGULARITY', 'TOP_PACK', 'FREQ_TOP_PACK',\n",
    "       'CHURN']\n",
    "        \n",
    "        \n"
   ]
  },
  {
   "cell_type": "code",
   "execution_count": 72,
   "metadata": {},
   "outputs": [],
   "source": [
    "percentage_missing =missing/400000"
   ]
  },
  {
   "cell_type": "code",
   "execution_count": 73,
   "metadata": {},
   "outputs": [
    {
     "data": {
      "text/plain": [
       "user_id           0.000000\n",
       "REGION            0.393800\n",
       "TENURE            0.000000\n",
       "MONTANT           0.350693\n",
       "FREQUENCE_RECH    0.350693\n",
       "REVENUE           0.336657\n",
       "ARPU_SEGMENT      0.336657\n",
       "FREQUENCE         0.336657\n",
       "DATA_VOLUME       0.492135\n",
       "ON_NET            0.364548\n",
       "ORANGE            0.415793\n",
       "TIGO              0.598465\n",
       "ZONE1             0.920775\n",
       "ZONE2             0.936218\n",
       "MRG               0.000000\n",
       "REGULARITY        0.000000\n",
       "TOP_PACK          0.418322\n",
       "FREQ_TOP_PACK     0.418322\n",
       "CHURN             0.000000\n",
       "dtype: float64"
      ]
     },
     "execution_count": 73,
     "metadata": {},
     "output_type": "execute_result"
    }
   ],
   "source": [
    "percentage_missing"
   ]
  },
  {
   "cell_type": "code",
   "execution_count": null,
   "metadata": {},
   "outputs": [],
   "source": []
  }
 ],
 "metadata": {
  "kernelspec": {
   "display_name": "Python 3",
   "language": "python",
   "name": "python3"
  },
  "language_info": {
   "codemirror_mode": {
    "name": "ipython",
    "version": 3
   },
   "file_extension": ".py",
   "mimetype": "text/x-python",
   "name": "python",
   "nbconvert_exporter": "python",
   "pygments_lexer": "ipython3",
   "version": "3.7.6"
  }
 },
 "nbformat": 4,
 "nbformat_minor": 4
}
